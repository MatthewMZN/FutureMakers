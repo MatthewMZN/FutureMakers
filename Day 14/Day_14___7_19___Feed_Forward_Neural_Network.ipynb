{
  "nbformat": 4,
  "nbformat_minor": 0,
  "metadata": {
    "colab": {
      "name": "Day 14 | 7/19 | Feed Forward Neural Network",
      "provenance": []
    },
    "kernelspec": {
      "name": "python3",
      "display_name": "Python 3"
    },
    "language_info": {
      "name": "python"
    }
  },
  "cells": [
    {
      "cell_type": "code",
      "metadata": {
        "colab": {
          "resources": {
            "http://localhost:8080/nbextensions/google.colab/files.js": {
              "data": "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",
              "ok": true,
              "headers": [
                [
                  "content-type",
                  "application/javascript"
                ]
              ],
              "status": 200,
              "status_text": ""
            }
          },
          "base_uri": "https://localhost:8080/",
          "height": 72
        },
        "id": "tURIqI7rFWgF",
        "outputId": "aaff8024-e76a-46d1-d73d-a9290c4ce089"
      },
      "source": [
        "# Predicting house prices using a feed forward model\n",
        "\n",
        "import pandas as pd\n",
        "import csv\n",
        "from google.colab import files\n",
        "uploaded = files.upload()\n",
        "df = pd.read_csv('housepricedata.csv') #creates a data frame that reads the downloaded data "
      ],
      "execution_count": 20,
      "outputs": [
        {
          "output_type": "display_data",
          "data": {
            "text/html": [
              "\n",
              "     <input type=\"file\" id=\"files-df41e322-6167-4004-9cc4-864c15fd7d37\" name=\"files[]\" multiple disabled\n",
              "        style=\"border:none\" />\n",
              "     <output id=\"result-df41e322-6167-4004-9cc4-864c15fd7d37\">\n",
              "      Upload widget is only available when the cell has been executed in the\n",
              "      current browser session. Please rerun this cell to enable.\n",
              "      </output>\n",
              "      <script src=\"/nbextensions/google.colab/files.js\"></script> "
            ],
            "text/plain": [
              "<IPython.core.display.HTML object>"
            ]
          },
          "metadata": {
            "tags": []
          }
        },
        {
          "output_type": "stream",
          "text": [
            "Saving housepricedata.csv to housepricedata (2).csv\n"
          ],
          "name": "stdout"
        }
      ]
    },
    {
      "cell_type": "code",
      "metadata": {
        "colab": {
          "base_uri": "https://localhost:8080/",
          "height": 419
        },
        "id": "n456mMzzPiNn",
        "outputId": "04c2ab4c-794e-4fbe-b6c9-7ed4bcb0a7e3"
      },
      "source": [
        "df # This plots the input data as the first 10 columns of the table. The output data, \"Above Median Price\", is the feature we would like to predict."
      ],
      "execution_count": 21,
      "outputs": [
        {
          "output_type": "execute_result",
          "data": {
            "text/html": [
              "<div>\n",
              "<style scoped>\n",
              "    .dataframe tbody tr th:only-of-type {\n",
              "        vertical-align: middle;\n",
              "    }\n",
              "\n",
              "    .dataframe tbody tr th {\n",
              "        vertical-align: top;\n",
              "    }\n",
              "\n",
              "    .dataframe thead th {\n",
              "        text-align: right;\n",
              "    }\n",
              "</style>\n",
              "<table border=\"1\" class=\"dataframe\">\n",
              "  <thead>\n",
              "    <tr style=\"text-align: right;\">\n",
              "      <th></th>\n",
              "      <th>LotArea</th>\n",
              "      <th>OverallQual</th>\n",
              "      <th>OverallCond</th>\n",
              "      <th>TotalBsmtSF</th>\n",
              "      <th>FullBath</th>\n",
              "      <th>HalfBath</th>\n",
              "      <th>BedroomAbvGr</th>\n",
              "      <th>TotRmsAbvGrd</th>\n",
              "      <th>Fireplaces</th>\n",
              "      <th>GarageArea</th>\n",
              "      <th>AboveMedianPrice</th>\n",
              "    </tr>\n",
              "  </thead>\n",
              "  <tbody>\n",
              "    <tr>\n",
              "      <th>0</th>\n",
              "      <td>8450</td>\n",
              "      <td>7</td>\n",
              "      <td>5</td>\n",
              "      <td>856</td>\n",
              "      <td>2</td>\n",
              "      <td>1</td>\n",
              "      <td>3</td>\n",
              "      <td>8</td>\n",
              "      <td>0</td>\n",
              "      <td>548</td>\n",
              "      <td>1</td>\n",
              "    </tr>\n",
              "    <tr>\n",
              "      <th>1</th>\n",
              "      <td>9600</td>\n",
              "      <td>6</td>\n",
              "      <td>8</td>\n",
              "      <td>1262</td>\n",
              "      <td>2</td>\n",
              "      <td>0</td>\n",
              "      <td>3</td>\n",
              "      <td>6</td>\n",
              "      <td>1</td>\n",
              "      <td>460</td>\n",
              "      <td>1</td>\n",
              "    </tr>\n",
              "    <tr>\n",
              "      <th>2</th>\n",
              "      <td>11250</td>\n",
              "      <td>7</td>\n",
              "      <td>5</td>\n",
              "      <td>920</td>\n",
              "      <td>2</td>\n",
              "      <td>1</td>\n",
              "      <td>3</td>\n",
              "      <td>6</td>\n",
              "      <td>1</td>\n",
              "      <td>608</td>\n",
              "      <td>1</td>\n",
              "    </tr>\n",
              "    <tr>\n",
              "      <th>3</th>\n",
              "      <td>9550</td>\n",
              "      <td>7</td>\n",
              "      <td>5</td>\n",
              "      <td>756</td>\n",
              "      <td>1</td>\n",
              "      <td>0</td>\n",
              "      <td>3</td>\n",
              "      <td>7</td>\n",
              "      <td>1</td>\n",
              "      <td>642</td>\n",
              "      <td>0</td>\n",
              "    </tr>\n",
              "    <tr>\n",
              "      <th>4</th>\n",
              "      <td>14260</td>\n",
              "      <td>8</td>\n",
              "      <td>5</td>\n",
              "      <td>1145</td>\n",
              "      <td>2</td>\n",
              "      <td>1</td>\n",
              "      <td>4</td>\n",
              "      <td>9</td>\n",
              "      <td>1</td>\n",
              "      <td>836</td>\n",
              "      <td>1</td>\n",
              "    </tr>\n",
              "    <tr>\n",
              "      <th>...</th>\n",
              "      <td>...</td>\n",
              "      <td>...</td>\n",
              "      <td>...</td>\n",
              "      <td>...</td>\n",
              "      <td>...</td>\n",
              "      <td>...</td>\n",
              "      <td>...</td>\n",
              "      <td>...</td>\n",
              "      <td>...</td>\n",
              "      <td>...</td>\n",
              "      <td>...</td>\n",
              "    </tr>\n",
              "    <tr>\n",
              "      <th>1455</th>\n",
              "      <td>7917</td>\n",
              "      <td>6</td>\n",
              "      <td>5</td>\n",
              "      <td>953</td>\n",
              "      <td>2</td>\n",
              "      <td>1</td>\n",
              "      <td>3</td>\n",
              "      <td>7</td>\n",
              "      <td>1</td>\n",
              "      <td>460</td>\n",
              "      <td>1</td>\n",
              "    </tr>\n",
              "    <tr>\n",
              "      <th>1456</th>\n",
              "      <td>13175</td>\n",
              "      <td>6</td>\n",
              "      <td>6</td>\n",
              "      <td>1542</td>\n",
              "      <td>2</td>\n",
              "      <td>0</td>\n",
              "      <td>3</td>\n",
              "      <td>7</td>\n",
              "      <td>2</td>\n",
              "      <td>500</td>\n",
              "      <td>1</td>\n",
              "    </tr>\n",
              "    <tr>\n",
              "      <th>1457</th>\n",
              "      <td>9042</td>\n",
              "      <td>7</td>\n",
              "      <td>9</td>\n",
              "      <td>1152</td>\n",
              "      <td>2</td>\n",
              "      <td>0</td>\n",
              "      <td>4</td>\n",
              "      <td>9</td>\n",
              "      <td>2</td>\n",
              "      <td>252</td>\n",
              "      <td>1</td>\n",
              "    </tr>\n",
              "    <tr>\n",
              "      <th>1458</th>\n",
              "      <td>9717</td>\n",
              "      <td>5</td>\n",
              "      <td>6</td>\n",
              "      <td>1078</td>\n",
              "      <td>1</td>\n",
              "      <td>0</td>\n",
              "      <td>2</td>\n",
              "      <td>5</td>\n",
              "      <td>0</td>\n",
              "      <td>240</td>\n",
              "      <td>0</td>\n",
              "    </tr>\n",
              "    <tr>\n",
              "      <th>1459</th>\n",
              "      <td>9937</td>\n",
              "      <td>5</td>\n",
              "      <td>6</td>\n",
              "      <td>1256</td>\n",
              "      <td>1</td>\n",
              "      <td>1</td>\n",
              "      <td>3</td>\n",
              "      <td>6</td>\n",
              "      <td>0</td>\n",
              "      <td>276</td>\n",
              "      <td>0</td>\n",
              "    </tr>\n",
              "  </tbody>\n",
              "</table>\n",
              "<p>1460 rows × 11 columns</p>\n",
              "</div>"
            ],
            "text/plain": [
              "      LotArea  OverallQual  ...  GarageArea  AboveMedianPrice\n",
              "0        8450            7  ...         548                 1\n",
              "1        9600            6  ...         460                 1\n",
              "2       11250            7  ...         608                 1\n",
              "3        9550            7  ...         642                 0\n",
              "4       14260            8  ...         836                 1\n",
              "...       ...          ...  ...         ...               ...\n",
              "1455     7917            6  ...         460                 1\n",
              "1456    13175            6  ...         500                 1\n",
              "1457     9042            7  ...         252                 1\n",
              "1458     9717            5  ...         240                 0\n",
              "1459     9937            5  ...         276                 0\n",
              "\n",
              "[1460 rows x 11 columns]"
            ]
          },
          "metadata": {
            "tags": []
          },
          "execution_count": 21
        }
      ]
    },
    {
      "cell_type": "code",
      "metadata": {
        "id": "4V6q2rKNPkeg"
      },
      "source": [
        "dataset = df.values"
      ],
      "execution_count": 23,
      "outputs": []
    },
    {
      "cell_type": "code",
      "metadata": {
        "colab": {
          "base_uri": "https://localhost:8080/"
        },
        "id": "Dr14NkMlQ3tK",
        "outputId": "085306a1-592b-4a24-8bb8-10cbbe675a07"
      },
      "source": [
        "dataset # We are converting our dataframe into an array by calling the values. \n",
        "# We now split our dataset into input features (X) and the feature we wish to predict (Y). \n",
        "# To do that split, we simply assign the first 10 columns of our array to a variable called X and the last column of our array to a variable called Y."
      ],
      "execution_count": 27,
      "outputs": [
        {
          "output_type": "execute_result",
          "data": {
            "text/plain": [
              "array([[ 8450,     7,     5, ...,     0,   548,     1],\n",
              "       [ 9600,     6,     8, ...,     1,   460,     1],\n",
              "       [11250,     7,     5, ...,     1,   608,     1],\n",
              "       ...,\n",
              "       [ 9042,     7,     9, ...,     2,   252,     1],\n",
              "       [ 9717,     5,     6, ...,     0,   240,     0],\n",
              "       [ 9937,     5,     6, ...,     0,   276,     0]])"
            ]
          },
          "metadata": {
            "tags": []
          },
          "execution_count": 27
        }
      ]
    },
    {
      "cell_type": "code",
      "metadata": {
        "colab": {
          "base_uri": "https://localhost:8080/"
        },
        "id": "QAPRZZGgRtuE",
        "outputId": "eb644ba3-be17-4740-9d0b-50a197365dfe"
      },
      "source": [
        "X = dataset[:,0:10] #All of the rows and the first 10 columns are now used for the input data of our NN.\n",
        "print(X)"
      ],
      "execution_count": 29,
      "outputs": [
        {
          "output_type": "stream",
          "text": [
            "[[ 8450     7     5 ...     8     0   548]\n",
            " [ 9600     6     8 ...     6     1   460]\n",
            " [11250     7     5 ...     6     1   608]\n",
            " ...\n",
            " [ 9042     7     9 ...     9     2   252]\n",
            " [ 9717     5     6 ...     5     0   240]\n",
            " [ 9937     5     6 ...     6     0   276]]\n"
          ],
          "name": "stdout"
        }
      ]
    },
    {
      "cell_type": "code",
      "metadata": {
        "colab": {
          "base_uri": "https://localhost:8080/"
        },
        "id": "m2MXgfoMQ9Cj",
        "outputId": "1afeba59-99d7-4983-dc14-62ec5c49f171"
      },
      "source": [
        "Y = dataset[:,10] #All the rows in the 10th column. This is the label of what we want to predict.\n",
        "print(Y)"
      ],
      "execution_count": 30,
      "outputs": [
        {
          "output_type": "stream",
          "text": [
            "[1 1 1 ... 1 0 0]\n"
          ],
          "name": "stdout"
        }
      ]
    },
    {
      "cell_type": "code",
      "metadata": {
        "id": "f4t8QtzhSmLo"
      },
      "source": [
        "# Next we should normalize the data since each of the columns have differing scales of values. If we don't standardize the data, it will be hard to \n",
        "# initialize the neural network once we start creating the layers. More so, our NN might prioritize the datat with higher values than others, not relaying\n",
        "# an accurate representation of our predictions.\n",
        "\n",
        "from sklearn import preprocessing\n",
        "\n",
        "min_max_scaler = preprocessing.MinMaxScaler() # This scales the data so that all the input features are collapsed between [0,1]\n",
        "X_scale = min_max_scaler.fit_transform(X)"
      ],
      "execution_count": 31,
      "outputs": []
    },
    {
      "cell_type": "code",
      "metadata": {
        "colab": {
          "base_uri": "https://localhost:8080/"
        },
        "id": "2pgBOPQbUPIo",
        "outputId": "c384e7f0-5037-4578-ae75-b5ccb620cd69"
      },
      "source": [
        "min_max_scaler"
      ],
      "execution_count": 32,
      "outputs": [
        {
          "output_type": "execute_result",
          "data": {
            "text/plain": [
              "MinMaxScaler(copy=True, feature_range=(0, 1))"
            ]
          },
          "metadata": {
            "tags": []
          },
          "execution_count": 32
        }
      ]
    },
    {
      "cell_type": "code",
      "metadata": {
        "colab": {
          "base_uri": "https://localhost:8080/"
        },
        "id": "Q19lDQOaUQLR",
        "outputId": "f98d411c-02b3-4d33-cc6a-81427693be3e"
      },
      "source": [
        "X_scale # As you can see, all the values among the input dataset is within [0,1], as compared to X in the cell above"
      ],
      "execution_count": 34,
      "outputs": [
        {
          "output_type": "execute_result",
          "data": {
            "text/plain": [
              "array([[0.0334198 , 0.66666667, 0.5       , ..., 0.5       , 0.        ,\n",
              "        0.3864598 ],\n",
              "       [0.03879502, 0.55555556, 0.875     , ..., 0.33333333, 0.33333333,\n",
              "        0.32440056],\n",
              "       [0.04650728, 0.66666667, 0.5       , ..., 0.33333333, 0.33333333,\n",
              "        0.42877292],\n",
              "       ...,\n",
              "       [0.03618687, 0.66666667, 1.        , ..., 0.58333333, 0.66666667,\n",
              "        0.17771509],\n",
              "       [0.03934189, 0.44444444, 0.625     , ..., 0.25      , 0.        ,\n",
              "        0.16925247],\n",
              "       [0.04037019, 0.44444444, 0.625     , ..., 0.33333333, 0.        ,\n",
              "        0.19464034]])"
            ]
          },
          "metadata": {
            "tags": []
          },
          "execution_count": 34
        }
      ]
    },
    {
      "cell_type": "code",
      "metadata": {
        "id": "1QpeGR6YURyh"
      },
      "source": [
        "from sklearn.model_selection import train_test_split # Now we split the data into training and validation data\n",
        "\n",
        "X_train, X_val_and_test, Y_train, Y_val_and_test = train_test_split(X_scale, Y, test_size=0.3) \n",
        "\n",
        "#The test size implies about 30% of the data is reserved for testing\n",
        "# The code will store the split data into the first four variables on the left of the equal sign as the variable names suggest.\n",
        "# Unfortunately, this function only helps us split our dataset into two. \n",
        "# Since we want a separate validation set and test set, we can use the same function to do the split again on val_and_test"
      ],
      "execution_count": 35,
      "outputs": []
    },
    {
      "cell_type": "code",
      "metadata": {
        "id": "SzL1R_3xVuSj"
      },
      "source": [
        "X_val, X_test, Y_val, Y_test = train_test_split(X_val_and_test, Y_val_and_test, test_size=0.5)\n",
        "# The code above will split the val_and_test size equally to the validation set and the test set."
      ],
      "execution_count": 38,
      "outputs": []
    },
    {
      "cell_type": "code",
      "metadata": {
        "colab": {
          "base_uri": "https://localhost:8080/",
          "height": 69
        },
        "id": "SVInsARjWMxr",
        "outputId": "4172bf38-2fae-4e06-86ee-4bf86f3459c7"
      },
      "source": [
        "\"\"\"In summary, we now have a total of six variables for our datasets we will use:\n",
        "\n",
        "X_train (10 input features, 70% of full dataset)\n",
        "X_val (10 input features, 15% of full dataset)\n",
        "X_test (10 input features, 15% of full dataset)\n",
        "Y_train (1 label, 70% of full dataset)\n",
        "Y_val (1 label, 15% of full dataset)\n",
        "Y_test (1 label, 15% of full dataset)\"\"\""
      ],
      "execution_count": 36,
      "outputs": [
        {
          "output_type": "execute_result",
          "data": {
            "application/vnd.google.colaboratory.intrinsic+json": {
              "type": "string"
            },
            "text/plain": [
              "'In summary, we now have a total of six variables for our datasets we will use:\\n\\nX_train (10 input features, 70% of full dataset)\\nX_val (10 input features, 15% of full dataset)\\nX_test (10 input features, 15% of full dataset)\\nY_train (1 label, 70% of full dataset)\\nY_val (1 label, 15% of full dataset)\\nY_test (1 label, 15% of full dataset)'"
            ]
          },
          "metadata": {
            "tags": []
          },
          "execution_count": 36
        }
      ]
    },
    {
      "cell_type": "code",
      "metadata": {
        "colab": {
          "base_uri": "https://localhost:8080/"
        },
        "id": "7-TEJCnuWR5-",
        "outputId": "e050670e-3e04-4e98-8aec-2131632f9d5f"
      },
      "source": [
        "print(X_train.shape, X_val.shape, X_test.shape, Y_train.shape, Y_val.shape, Y_test.shape)\n"
      ],
      "execution_count": 39,
      "outputs": [
        {
          "output_type": "stream",
          "text": [
            "(1022, 10) (219, 10) (219, 10) (1022,) (219,) (219,)\n"
          ],
          "name": "stdout"
        }
      ]
    },
    {
      "cell_type": "code",
      "metadata": {
        "id": "_xj0-b2HWaZ4"
      },
      "source": [
        "# Now it is time to design our model. We set up the architecture by calling Sequential and simply describing the layers of the network in sequence\n",
        "\n",
        "from keras.models import Sequential\n",
        "from keras.layers import Dense\n",
        "\n",
        "#Seeds help the algorithm randomly choose the same set of values each time we run the code. This allows for repeatability. This code doesn't use seeds, so \n",
        "#there will be variations in the results each time the code is ran\n",
        "model = Sequential([ \n",
        "#This says that we will store our model in the variable ‘model’, and we’ll describe it sequentially (layer by layer) in between the square brackets.\n",
        "    Dense(32, activation='relu', input_shape=(10,)), \n",
        "#We have our first layer as a dense layer with 32 neurons, ReLU activation and the input shape is 10 since we have 10 input features. \n",
        "#Note that ‘Dense’ refers to a fully-connected layer, which is what we will be using.these are dense layers with linear activation functions\n",
        "    Dense(32, activation='relu'),\n",
        "#Our second layer is also a dense layer with 32 neurons, ReLU activation. \n",
        "#Note that we do not have to describe the input shape since Keras can infer from the output of our first layer.    \n",
        "    Dense(1, activation='sigmoid'),\n",
        "#Our third layer is a dense layer with 1 neuron, sigmoid activation.\n",
        "])"
      ],
      "execution_count": 50,
      "outputs": []
    },
    {
      "cell_type": "code",
      "metadata": {
        "id": "k8RF_IUgYiYZ"
      },
      "source": [
        "model.compile(optimizer='sgd', #stochastic gradient descent. This is an optimizer to ensure the algorithm converges to a global minimum\n",
        "              loss='binary_crossentropy', #The loss function for outputs that take the values 1 or 0 is called binary cross entropy.\n",
        "              metrics=['accuracy']) #Next we can track our accuracy alongside our loss function"
      ],
      "execution_count": 42,
      "outputs": []
    },
    {
      "cell_type": "code",
      "metadata": {
        "colab": {
          "base_uri": "https://localhost:8080/"
        },
        "id": "_FKuxgtXZZfT",
        "outputId": "aae9efbe-e67d-4b39-c64e-25b6d9e02cc0"
      },
      "source": [
        "hist = model.fit(X_train, Y_train,\n",
        "          batch_size=32, epochs=100,\n",
        "          validation_data=(X_val, Y_val))\n",
        "#The function is called ‘fit’ as we are fitting the parameters to the data. \n",
        "#We have to specify what data we are training on, which is X_train and Y_train. \n",
        "#Then, we specify the size of our mini-batch and how long we want to train it for (epochs). \n",
        "#Lastly, we specify what our validation data is so that the model will tell us how we are doing on the validation data at each point. \n",
        "#This function will output a history, which we save under the variable hist. We’ll use this variable a little later when we get to visualization."
      ],
      "execution_count": 43,
      "outputs": [
        {
          "output_type": "stream",
          "text": [
            "Epoch 1/100\n",
            "32/32 [==============================] - 14s 17ms/step - loss: 0.6961 - accuracy: 0.4895 - val_loss: 0.6917 - val_accuracy: 0.5890\n",
            "Epoch 2/100\n",
            "32/32 [==============================] - 0s 2ms/step - loss: 0.6888 - accuracy: 0.5588 - val_loss: 0.6848 - val_accuracy: 0.5616\n",
            "Epoch 3/100\n",
            "32/32 [==============================] - 0s 2ms/step - loss: 0.6801 - accuracy: 0.5735 - val_loss: 0.6792 - val_accuracy: 0.5434\n",
            "Epoch 4/100\n",
            "32/32 [==============================] - 0s 2ms/step - loss: 0.6731 - accuracy: 0.5644 - val_loss: 0.6743 - val_accuracy: 0.5434\n",
            "Epoch 5/100\n",
            "32/32 [==============================] - 0s 2ms/step - loss: 0.6677 - accuracy: 0.5717 - val_loss: 0.6698 - val_accuracy: 0.5662\n",
            "Epoch 6/100\n",
            "32/32 [==============================] - 0s 2ms/step - loss: 0.6627 - accuracy: 0.5869 - val_loss: 0.6653 - val_accuracy: 0.5982\n",
            "Epoch 7/100\n",
            "32/32 [==============================] - 0s 2ms/step - loss: 0.6579 - accuracy: 0.6231 - val_loss: 0.6608 - val_accuracy: 0.6164\n",
            "Epoch 8/100\n",
            "32/32 [==============================] - 0s 2ms/step - loss: 0.6495 - accuracy: 0.6518 - val_loss: 0.6562 - val_accuracy: 0.6347\n",
            "Epoch 9/100\n",
            "32/32 [==============================] - 0s 2ms/step - loss: 0.6486 - accuracy: 0.6747 - val_loss: 0.6516 - val_accuracy: 0.6530\n",
            "Epoch 10/100\n",
            "32/32 [==============================] - 0s 2ms/step - loss: 0.6438 - accuracy: 0.6885 - val_loss: 0.6470 - val_accuracy: 0.6575\n",
            "Epoch 11/100\n",
            "32/32 [==============================] - 0s 2ms/step - loss: 0.6392 - accuracy: 0.6982 - val_loss: 0.6423 - val_accuracy: 0.6712\n",
            "Epoch 12/100\n",
            "32/32 [==============================] - 0s 2ms/step - loss: 0.6296 - accuracy: 0.7174 - val_loss: 0.6374 - val_accuracy: 0.6804\n",
            "Epoch 13/100\n",
            "32/32 [==============================] - 0s 2ms/step - loss: 0.6311 - accuracy: 0.7375 - val_loss: 0.6323 - val_accuracy: 0.6849\n",
            "Epoch 14/100\n",
            "32/32 [==============================] - 0s 2ms/step - loss: 0.6225 - accuracy: 0.7639 - val_loss: 0.6271 - val_accuracy: 0.6986\n",
            "Epoch 15/100\n",
            "32/32 [==============================] - 0s 2ms/step - loss: 0.6164 - accuracy: 0.7575 - val_loss: 0.6215 - val_accuracy: 0.7123\n",
            "Epoch 16/100\n",
            "32/32 [==============================] - 0s 2ms/step - loss: 0.6121 - accuracy: 0.7775 - val_loss: 0.6160 - val_accuracy: 0.7215\n",
            "Epoch 17/100\n",
            "32/32 [==============================] - 0s 2ms/step - loss: 0.5994 - accuracy: 0.7904 - val_loss: 0.6100 - val_accuracy: 0.7397\n",
            "Epoch 18/100\n",
            "32/32 [==============================] - 0s 2ms/step - loss: 0.5998 - accuracy: 0.7987 - val_loss: 0.6041 - val_accuracy: 0.7489\n",
            "Epoch 19/100\n",
            "32/32 [==============================] - 0s 2ms/step - loss: 0.5925 - accuracy: 0.8009 - val_loss: 0.5979 - val_accuracy: 0.7489\n",
            "Epoch 20/100\n",
            "32/32 [==============================] - 0s 2ms/step - loss: 0.5827 - accuracy: 0.8029 - val_loss: 0.5917 - val_accuracy: 0.7671\n",
            "Epoch 21/100\n",
            "32/32 [==============================] - 0s 2ms/step - loss: 0.5826 - accuracy: 0.8033 - val_loss: 0.5853 - val_accuracy: 0.7808\n",
            "Epoch 22/100\n",
            "32/32 [==============================] - 0s 2ms/step - loss: 0.5718 - accuracy: 0.8093 - val_loss: 0.5790 - val_accuracy: 0.7808\n",
            "Epoch 23/100\n",
            "32/32 [==============================] - 0s 2ms/step - loss: 0.5628 - accuracy: 0.8202 - val_loss: 0.5724 - val_accuracy: 0.7808\n",
            "Epoch 24/100\n",
            "32/32 [==============================] - 0s 2ms/step - loss: 0.5629 - accuracy: 0.8120 - val_loss: 0.5657 - val_accuracy: 0.7900\n",
            "Epoch 25/100\n",
            "32/32 [==============================] - 0s 2ms/step - loss: 0.5449 - accuracy: 0.8290 - val_loss: 0.5588 - val_accuracy: 0.7991\n",
            "Epoch 26/100\n",
            "32/32 [==============================] - 0s 2ms/step - loss: 0.5374 - accuracy: 0.8414 - val_loss: 0.5518 - val_accuracy: 0.7991\n",
            "Epoch 27/100\n",
            "32/32 [==============================] - 0s 2ms/step - loss: 0.5389 - accuracy: 0.8205 - val_loss: 0.5452 - val_accuracy: 0.8037\n",
            "Epoch 28/100\n",
            "32/32 [==============================] - 0s 2ms/step - loss: 0.5193 - accuracy: 0.8453 - val_loss: 0.5383 - val_accuracy: 0.8082\n",
            "Epoch 29/100\n",
            "32/32 [==============================] - 0s 2ms/step - loss: 0.5269 - accuracy: 0.8228 - val_loss: 0.5313 - val_accuracy: 0.8128\n",
            "Epoch 30/100\n",
            "32/32 [==============================] - 0s 2ms/step - loss: 0.5220 - accuracy: 0.8378 - val_loss: 0.5246 - val_accuracy: 0.8265\n",
            "Epoch 31/100\n",
            "32/32 [==============================] - 0s 2ms/step - loss: 0.4981 - accuracy: 0.8615 - val_loss: 0.5179 - val_accuracy: 0.8265\n",
            "Epoch 32/100\n",
            "32/32 [==============================] - 0s 2ms/step - loss: 0.4916 - accuracy: 0.8527 - val_loss: 0.5110 - val_accuracy: 0.8311\n",
            "Epoch 33/100\n",
            "32/32 [==============================] - 0s 2ms/step - loss: 0.4898 - accuracy: 0.8570 - val_loss: 0.5046 - val_accuracy: 0.8311\n",
            "Epoch 34/100\n",
            "32/32 [==============================] - 0s 2ms/step - loss: 0.4951 - accuracy: 0.8256 - val_loss: 0.4981 - val_accuracy: 0.8356\n",
            "Epoch 35/100\n",
            "32/32 [==============================] - 0s 2ms/step - loss: 0.4707 - accuracy: 0.8444 - val_loss: 0.4908 - val_accuracy: 0.8539\n",
            "Epoch 36/100\n",
            "32/32 [==============================] - 0s 2ms/step - loss: 0.4655 - accuracy: 0.8679 - val_loss: 0.4849 - val_accuracy: 0.8493\n",
            "Epoch 37/100\n",
            "32/32 [==============================] - 0s 2ms/step - loss: 0.4732 - accuracy: 0.8500 - val_loss: 0.4785 - val_accuracy: 0.8584\n",
            "Epoch 38/100\n",
            "32/32 [==============================] - 0s 2ms/step - loss: 0.4569 - accuracy: 0.8623 - val_loss: 0.4721 - val_accuracy: 0.8630\n",
            "Epoch 39/100\n",
            "32/32 [==============================] - 0s 2ms/step - loss: 0.4528 - accuracy: 0.8598 - val_loss: 0.4665 - val_accuracy: 0.8630\n",
            "Epoch 40/100\n",
            "32/32 [==============================] - 0s 2ms/step - loss: 0.4442 - accuracy: 0.8636 - val_loss: 0.4601 - val_accuracy: 0.8676\n",
            "Epoch 41/100\n",
            "32/32 [==============================] - 0s 2ms/step - loss: 0.4362 - accuracy: 0.8705 - val_loss: 0.4548 - val_accuracy: 0.8676\n",
            "Epoch 42/100\n",
            "32/32 [==============================] - 0s 2ms/step - loss: 0.4408 - accuracy: 0.8556 - val_loss: 0.4486 - val_accuracy: 0.8721\n",
            "Epoch 43/100\n",
            "32/32 [==============================] - 0s 2ms/step - loss: 0.4164 - accuracy: 0.8747 - val_loss: 0.4429 - val_accuracy: 0.8721\n",
            "Epoch 44/100\n",
            "32/32 [==============================] - 0s 3ms/step - loss: 0.4235 - accuracy: 0.8638 - val_loss: 0.4377 - val_accuracy: 0.8721\n",
            "Epoch 45/100\n",
            "32/32 [==============================] - 0s 2ms/step - loss: 0.4022 - accuracy: 0.8818 - val_loss: 0.4316 - val_accuracy: 0.8676\n",
            "Epoch 46/100\n",
            "32/32 [==============================] - 0s 2ms/step - loss: 0.3920 - accuracy: 0.8861 - val_loss: 0.4270 - val_accuracy: 0.8721\n",
            "Epoch 47/100\n",
            "32/32 [==============================] - 0s 2ms/step - loss: 0.3973 - accuracy: 0.8765 - val_loss: 0.4221 - val_accuracy: 0.8676\n",
            "Epoch 48/100\n",
            "32/32 [==============================] - 0s 2ms/step - loss: 0.3933 - accuracy: 0.8772 - val_loss: 0.4170 - val_accuracy: 0.8676\n",
            "Epoch 49/100\n",
            "32/32 [==============================] - 0s 2ms/step - loss: 0.3911 - accuracy: 0.8785 - val_loss: 0.4121 - val_accuracy: 0.8676\n",
            "Epoch 50/100\n",
            "32/32 [==============================] - 0s 2ms/step - loss: 0.3726 - accuracy: 0.8916 - val_loss: 0.4074 - val_accuracy: 0.8676\n",
            "Epoch 51/100\n",
            "32/32 [==============================] - 0s 2ms/step - loss: 0.3898 - accuracy: 0.8747 - val_loss: 0.4045 - val_accuracy: 0.8630\n",
            "Epoch 52/100\n",
            "32/32 [==============================] - 0s 3ms/step - loss: 0.3882 - accuracy: 0.8590 - val_loss: 0.3985 - val_accuracy: 0.8721\n",
            "Epoch 53/100\n",
            "32/32 [==============================] - 0s 2ms/step - loss: 0.3851 - accuracy: 0.8692 - val_loss: 0.3959 - val_accuracy: 0.8630\n",
            "Epoch 54/100\n",
            "32/32 [==============================] - 0s 2ms/step - loss: 0.3569 - accuracy: 0.8792 - val_loss: 0.3907 - val_accuracy: 0.8676\n",
            "Epoch 55/100\n",
            "32/32 [==============================] - 0s 2ms/step - loss: 0.3736 - accuracy: 0.8774 - val_loss: 0.3865 - val_accuracy: 0.8721\n",
            "Epoch 56/100\n",
            "32/32 [==============================] - 0s 2ms/step - loss: 0.3387 - accuracy: 0.8947 - val_loss: 0.3828 - val_accuracy: 0.8767\n",
            "Epoch 57/100\n",
            "32/32 [==============================] - 0s 2ms/step - loss: 0.3674 - accuracy: 0.8772 - val_loss: 0.3802 - val_accuracy: 0.8721\n",
            "Epoch 58/100\n",
            "32/32 [==============================] - 0s 2ms/step - loss: 0.3566 - accuracy: 0.8846 - val_loss: 0.3760 - val_accuracy: 0.8767\n",
            "Epoch 59/100\n",
            "32/32 [==============================] - 0s 2ms/step - loss: 0.3744 - accuracy: 0.8736 - val_loss: 0.3745 - val_accuracy: 0.8676\n",
            "Epoch 60/100\n",
            "32/32 [==============================] - 0s 2ms/step - loss: 0.3335 - accuracy: 0.8818 - val_loss: 0.3698 - val_accuracy: 0.8813\n",
            "Epoch 61/100\n",
            "32/32 [==============================] - 0s 2ms/step - loss: 0.3430 - accuracy: 0.8892 - val_loss: 0.3687 - val_accuracy: 0.8630\n",
            "Epoch 62/100\n",
            "32/32 [==============================] - 0s 2ms/step - loss: 0.3318 - accuracy: 0.8906 - val_loss: 0.3633 - val_accuracy: 0.8676\n",
            "Epoch 63/100\n",
            "32/32 [==============================] - 0s 2ms/step - loss: 0.3450 - accuracy: 0.8821 - val_loss: 0.3621 - val_accuracy: 0.8676\n",
            "Epoch 64/100\n",
            "32/32 [==============================] - 0s 2ms/step - loss: 0.3340 - accuracy: 0.8806 - val_loss: 0.3580 - val_accuracy: 0.8676\n",
            "Epoch 65/100\n",
            "32/32 [==============================] - 0s 2ms/step - loss: 0.3406 - accuracy: 0.8829 - val_loss: 0.3566 - val_accuracy: 0.8584\n",
            "Epoch 66/100\n",
            "32/32 [==============================] - 0s 2ms/step - loss: 0.3234 - accuracy: 0.8922 - val_loss: 0.3528 - val_accuracy: 0.8721\n",
            "Epoch 67/100\n",
            "32/32 [==============================] - 0s 2ms/step - loss: 0.3370 - accuracy: 0.8814 - val_loss: 0.3505 - val_accuracy: 0.8721\n",
            "Epoch 68/100\n",
            "32/32 [==============================] - 0s 2ms/step - loss: 0.3274 - accuracy: 0.8826 - val_loss: 0.3497 - val_accuracy: 0.8584\n",
            "Epoch 69/100\n",
            "32/32 [==============================] - 0s 2ms/step - loss: 0.3284 - accuracy: 0.8825 - val_loss: 0.3463 - val_accuracy: 0.8721\n",
            "Epoch 70/100\n",
            "32/32 [==============================] - 0s 2ms/step - loss: 0.3168 - accuracy: 0.8784 - val_loss: 0.3449 - val_accuracy: 0.8630\n",
            "Epoch 71/100\n",
            "32/32 [==============================] - 0s 2ms/step - loss: 0.3087 - accuracy: 0.8856 - val_loss: 0.3450 - val_accuracy: 0.8539\n",
            "Epoch 72/100\n",
            "32/32 [==============================] - 0s 2ms/step - loss: 0.3152 - accuracy: 0.8895 - val_loss: 0.3417 - val_accuracy: 0.8630\n",
            "Epoch 73/100\n",
            "32/32 [==============================] - 0s 2ms/step - loss: 0.3152 - accuracy: 0.8897 - val_loss: 0.3391 - val_accuracy: 0.8721\n",
            "Epoch 74/100\n",
            "32/32 [==============================] - 0s 2ms/step - loss: 0.3262 - accuracy: 0.8825 - val_loss: 0.3397 - val_accuracy: 0.8584\n",
            "Epoch 75/100\n",
            "32/32 [==============================] - 0s 2ms/step - loss: 0.3284 - accuracy: 0.8832 - val_loss: 0.3358 - val_accuracy: 0.8721\n",
            "Epoch 76/100\n",
            "32/32 [==============================] - 0s 2ms/step - loss: 0.2982 - accuracy: 0.8828 - val_loss: 0.3338 - val_accuracy: 0.8721\n",
            "Epoch 77/100\n",
            "32/32 [==============================] - 0s 2ms/step - loss: 0.3131 - accuracy: 0.8918 - val_loss: 0.3320 - val_accuracy: 0.8767\n",
            "Epoch 78/100\n",
            "32/32 [==============================] - 0s 2ms/step - loss: 0.3362 - accuracy: 0.8771 - val_loss: 0.3318 - val_accuracy: 0.8676\n",
            "Epoch 79/100\n",
            "32/32 [==============================] - 0s 2ms/step - loss: 0.3238 - accuracy: 0.8868 - val_loss: 0.3321 - val_accuracy: 0.8630\n",
            "Epoch 80/100\n",
            "32/32 [==============================] - 0s 2ms/step - loss: 0.3080 - accuracy: 0.8987 - val_loss: 0.3285 - val_accuracy: 0.8676\n",
            "Epoch 81/100\n",
            "32/32 [==============================] - 0s 2ms/step - loss: 0.3071 - accuracy: 0.8790 - val_loss: 0.3265 - val_accuracy: 0.8767\n",
            "Epoch 82/100\n",
            "32/32 [==============================] - 0s 2ms/step - loss: 0.3136 - accuracy: 0.8818 - val_loss: 0.3258 - val_accuracy: 0.8721\n",
            "Epoch 83/100\n",
            "32/32 [==============================] - 0s 2ms/step - loss: 0.3104 - accuracy: 0.8899 - val_loss: 0.3246 - val_accuracy: 0.8767\n",
            "Epoch 84/100\n",
            "32/32 [==============================] - 0s 2ms/step - loss: 0.3119 - accuracy: 0.8703 - val_loss: 0.3239 - val_accuracy: 0.8676\n",
            "Epoch 85/100\n",
            "32/32 [==============================] - 0s 2ms/step - loss: 0.2827 - accuracy: 0.9002 - val_loss: 0.3216 - val_accuracy: 0.8767\n",
            "Epoch 86/100\n",
            "32/32 [==============================] - 0s 2ms/step - loss: 0.3165 - accuracy: 0.8825 - val_loss: 0.3218 - val_accuracy: 0.8676\n",
            "Epoch 87/100\n",
            "32/32 [==============================] - 0s 2ms/step - loss: 0.3233 - accuracy: 0.8778 - val_loss: 0.3192 - val_accuracy: 0.8767\n",
            "Epoch 88/100\n",
            "32/32 [==============================] - 0s 2ms/step - loss: 0.3303 - accuracy: 0.8763 - val_loss: 0.3183 - val_accuracy: 0.8767\n",
            "Epoch 89/100\n",
            "32/32 [==============================] - 0s 2ms/step - loss: 0.2919 - accuracy: 0.8839 - val_loss: 0.3170 - val_accuracy: 0.8813\n",
            "Epoch 90/100\n",
            "32/32 [==============================] - 0s 2ms/step - loss: 0.2909 - accuracy: 0.8944 - val_loss: 0.3160 - val_accuracy: 0.8813\n",
            "Epoch 91/100\n",
            "32/32 [==============================] - 0s 2ms/step - loss: 0.3009 - accuracy: 0.8807 - val_loss: 0.3151 - val_accuracy: 0.8813\n",
            "Epoch 92/100\n",
            "32/32 [==============================] - 0s 3ms/step - loss: 0.2858 - accuracy: 0.8796 - val_loss: 0.3141 - val_accuracy: 0.8813\n",
            "Epoch 93/100\n",
            "32/32 [==============================] - 0s 2ms/step - loss: 0.3284 - accuracy: 0.8649 - val_loss: 0.3141 - val_accuracy: 0.8676\n",
            "Epoch 94/100\n",
            "32/32 [==============================] - 0s 2ms/step - loss: 0.3066 - accuracy: 0.8752 - val_loss: 0.3126 - val_accuracy: 0.8813\n",
            "Epoch 95/100\n",
            "32/32 [==============================] - 0s 2ms/step - loss: 0.2939 - accuracy: 0.8904 - val_loss: 0.3115 - val_accuracy: 0.8858\n",
            "Epoch 96/100\n",
            "32/32 [==============================] - 0s 2ms/step - loss: 0.2917 - accuracy: 0.8843 - val_loss: 0.3104 - val_accuracy: 0.8858\n",
            "Epoch 97/100\n",
            "32/32 [==============================] - 0s 2ms/step - loss: 0.3178 - accuracy: 0.8771 - val_loss: 0.3105 - val_accuracy: 0.8767\n",
            "Epoch 98/100\n",
            "32/32 [==============================] - 0s 2ms/step - loss: 0.2708 - accuracy: 0.8970 - val_loss: 0.3091 - val_accuracy: 0.8813\n",
            "Epoch 99/100\n",
            "32/32 [==============================] - 0s 2ms/step - loss: 0.2901 - accuracy: 0.8815 - val_loss: 0.3085 - val_accuracy: 0.8813\n",
            "Epoch 100/100\n",
            "32/32 [==============================] - 0s 2ms/step - loss: 0.2859 - accuracy: 0.8993 - val_loss: 0.3075 - val_accuracy: 0.8813\n"
          ],
          "name": "stdout"
        }
      ]
    },
    {
      "cell_type": "code",
      "metadata": {
        "colab": {
          "base_uri": "https://localhost:8080/"
        },
        "id": "OieknbemaW3b",
        "outputId": "a27d0422-e11c-48ac-fc74-622a8933155d"
      },
      "source": [
        "model.evaluate(X_test, Y_test)[1]"
      ],
      "execution_count": 44,
      "outputs": [
        {
          "output_type": "stream",
          "text": [
            "7/7 [==============================] - 0s 2ms/step - loss: 0.3525 - accuracy: 0.8356\n"
          ],
          "name": "stdout"
        },
        {
          "output_type": "execute_result",
          "data": {
            "text/plain": [
              "0.835616409778595"
            ]
          },
          "metadata": {
            "tags": []
          },
          "execution_count": 44
        }
      ]
    },
    {
      "cell_type": "code",
      "metadata": {
        "colab": {
          "base_uri": "https://localhost:8080/",
          "height": 295
        },
        "id": "hltRxgvTczjV",
        "outputId": "de8bfa08-c51a-439a-a431-c33713d47dbc"
      },
      "source": [
        "# Visualizing Loss & Accuracy\n",
        "# Plot the training loss and the validation loss over the number of epochs passed. To display some nice graphs, we will use the package matplotlib.\n",
        "\n",
        "import matplotlib.pyplot as plt\n",
        "\n",
        "#Visualize the training loss and the validation loss\n",
        "plt.plot(hist.history['loss'])\n",
        "plt.plot(hist.history['val_loss'])\n",
        "plt.title('Model loss')\n",
        "plt.ylabel('Loss')\n",
        "plt.xlabel('Epoch')\n",
        "plt.legend(['Train', 'Val'], loc='upper right')\n",
        "plt.show()"
      ],
      "execution_count": 47,
      "outputs": [
        {
          "output_type": "display_data",
          "data": {
            "image/png": "[encoded data removed]",
            "text/plain": [
              "<Figure size 432x288 with 1 Axes>"
            ]
          },
          "metadata": {
            "tags": [],
            "needs_background": "light"
          }
        }
      ]
    },
    {
      "cell_type": "code",
      "metadata": {
        "colab": {
          "base_uri": "https://localhost:8080/",
          "height": 295
        },
        "id": "tulrY1n8dZoN",
        "outputId": "b9aa335a-b71e-4429-9ab4-04016706aa15"
      },
      "source": [
        "import matplotlib.pyplot as plt\n",
        "\n",
        "plt.plot(hist.history['accuracy'])\n",
        "plt.plot(hist.history['val_accuracy'])\n",
        "plt.title('Model accuracy')\n",
        "plt.ylabel('Accuracy')\n",
        "plt.xlabel('Epoch')\n",
        "plt.legend(['Train', 'Val'], loc='lower right')\n",
        "plt.show()"
      ],
      "execution_count": 53,
      "outputs": [
        {
          "output_type": "display_data",
          "data": {
            "image/png": "[encoded data removed]",
            "text/plain": [
              "<Figure size 432x288 with 1 Axes>"
            ]
          },
          "metadata": {
            "tags": [],
            "needs_background": "light"
          }
        }
      ]
    },
    {
      "cell_type": "code",
      "metadata": {
        "id": "94OfCxVBd-SH"
      },
      "source": [
        "# Adding Regularization to Neural Network\n",
        "# Create a model to represent overfitting. Then use this model to showcase methods to mitigate it.\n",
        "model_2 = Sequential([\n",
        "    Dense(1000, activation='relu', input_shape=(10,)),\n",
        "    Dense(1000, activation='relu'),\n",
        "    Dense(1000, activation='relu'),\n",
        "    Dense(1000, activation='relu'),\n",
        "    Dense(1, activation='sigmoid'),\n",
        "])"
      ],
      "execution_count": 54,
      "outputs": []
    },
    {
      "cell_type": "code",
      "metadata": {
        "id": "ZhNRh_b_eNss"
      },
      "source": [
        "model_2.compile(optimizer='adam',\n",
        "              loss='binary_crossentropy',\n",
        "              metrics=['accuracy'])"
      ],
      "execution_count": 55,
      "outputs": []
    },
    {
      "cell_type": "code",
      "metadata": {
        "colab": {
          "base_uri": "https://localhost:8080/"
        },
        "id": "VDOWeY9PeQME",
        "outputId": "d19cff21-23c8-4072-953d-50b719460a1e"
      },
      "source": [
        "hist_2 = model_2.fit(X_train, Y_train,\n",
        "          batch_size=32, epochs=100,\n",
        "          validation_data=(X_val, Y_val))"
      ],
      "execution_count": 56,
      "outputs": [
        {
          "output_type": "stream",
          "text": [
            "Epoch 1/100\n",
            "32/32 [==============================] - 2s 43ms/step - loss: 0.5706 - accuracy: 0.6477 - val_loss: 0.4220 - val_accuracy: 0.8128\n",
            "Epoch 2/100\n",
            "32/32 [==============================] - 1s 34ms/step - loss: 0.3559 - accuracy: 0.8544 - val_loss: 0.4190 - val_accuracy: 0.8356\n",
            "Epoch 3/100\n",
            "32/32 [==============================] - 1s 35ms/step - loss: 0.3066 - accuracy: 0.8621 - val_loss: 0.3513 - val_accuracy: 0.8447\n",
            "Epoch 4/100\n",
            "32/32 [==============================] - 1s 35ms/step - loss: 0.2945 - accuracy: 0.8861 - val_loss: 0.3387 - val_accuracy: 0.8447\n",
            "Epoch 5/100\n",
            "32/32 [==============================] - 1s 34ms/step - loss: 0.2551 - accuracy: 0.8971 - val_loss: 0.2879 - val_accuracy: 0.8904\n",
            "Epoch 6/100\n",
            "32/32 [==============================] - 1s 34ms/step - loss: 0.2809 - accuracy: 0.8920 - val_loss: 0.2690 - val_accuracy: 0.8767\n",
            "Epoch 7/100\n",
            "32/32 [==============================] - 1s 34ms/step - loss: 0.2450 - accuracy: 0.9047 - val_loss: 0.2607 - val_accuracy: 0.8904\n",
            "Epoch 8/100\n",
            "32/32 [==============================] - 1s 34ms/step - loss: 0.2222 - accuracy: 0.9063 - val_loss: 0.2678 - val_accuracy: 0.9224\n",
            "Epoch 9/100\n",
            "32/32 [==============================] - 1s 34ms/step - loss: 0.2773 - accuracy: 0.8964 - val_loss: 0.2736 - val_accuracy: 0.8995\n",
            "Epoch 10/100\n",
            "32/32 [==============================] - 1s 34ms/step - loss: 0.2448 - accuracy: 0.8969 - val_loss: 0.2508 - val_accuracy: 0.8904\n",
            "Epoch 11/100\n",
            "32/32 [==============================] - 1s 34ms/step - loss: 0.2265 - accuracy: 0.9023 - val_loss: 0.2294 - val_accuracy: 0.8995\n",
            "Epoch 12/100\n",
            "32/32 [==============================] - 1s 34ms/step - loss: 0.2040 - accuracy: 0.9091 - val_loss: 0.2596 - val_accuracy: 0.8858\n",
            "Epoch 13/100\n",
            "32/32 [==============================] - 1s 34ms/step - loss: 0.2413 - accuracy: 0.8959 - val_loss: 0.3682 - val_accuracy: 0.8630\n",
            "Epoch 14/100\n",
            "32/32 [==============================] - 1s 36ms/step - loss: 0.2530 - accuracy: 0.8891 - val_loss: 0.2408 - val_accuracy: 0.8950\n",
            "Epoch 15/100\n",
            "32/32 [==============================] - 1s 35ms/step - loss: 0.1884 - accuracy: 0.9124 - val_loss: 0.2496 - val_accuracy: 0.8995\n",
            "Epoch 16/100\n",
            "32/32 [==============================] - 1s 35ms/step - loss: 0.2038 - accuracy: 0.9234 - val_loss: 0.2250 - val_accuracy: 0.9041\n",
            "Epoch 17/100\n",
            "32/32 [==============================] - 1s 35ms/step - loss: 0.1889 - accuracy: 0.9195 - val_loss: 0.2402 - val_accuracy: 0.9041\n",
            "Epoch 18/100\n",
            "32/32 [==============================] - 1s 34ms/step - loss: 0.2094 - accuracy: 0.9064 - val_loss: 0.2436 - val_accuracy: 0.9178\n",
            "Epoch 19/100\n",
            "32/32 [==============================] - 1s 35ms/step - loss: 0.2187 - accuracy: 0.8981 - val_loss: 0.2434 - val_accuracy: 0.9132\n",
            "Epoch 20/100\n",
            "32/32 [==============================] - 1s 34ms/step - loss: 0.2057 - accuracy: 0.9176 - val_loss: 0.2329 - val_accuracy: 0.8904\n",
            "Epoch 21/100\n",
            "32/32 [==============================] - 1s 35ms/step - loss: 0.1659 - accuracy: 0.9349 - val_loss: 0.2276 - val_accuracy: 0.8995\n",
            "Epoch 22/100\n",
            "32/32 [==============================] - 1s 36ms/step - loss: 0.1803 - accuracy: 0.9310 - val_loss: 0.2298 - val_accuracy: 0.9178\n",
            "Epoch 23/100\n",
            "32/32 [==============================] - 1s 36ms/step - loss: 0.1948 - accuracy: 0.9204 - val_loss: 0.2952 - val_accuracy: 0.8813\n",
            "Epoch 24/100\n",
            "32/32 [==============================] - 1s 34ms/step - loss: 0.2261 - accuracy: 0.8987 - val_loss: 0.2444 - val_accuracy: 0.9132\n",
            "Epoch 25/100\n",
            "32/32 [==============================] - 1s 35ms/step - loss: 0.1592 - accuracy: 0.9441 - val_loss: 0.2489 - val_accuracy: 0.9041\n",
            "Epoch 26/100\n",
            "32/32 [==============================] - 1s 35ms/step - loss: 0.2161 - accuracy: 0.9059 - val_loss: 0.2271 - val_accuracy: 0.9178\n",
            "Epoch 27/100\n",
            "32/32 [==============================] - 1s 34ms/step - loss: 0.1814 - accuracy: 0.9257 - val_loss: 0.2189 - val_accuracy: 0.9132\n",
            "Epoch 28/100\n",
            "32/32 [==============================] - 1s 35ms/step - loss: 0.2173 - accuracy: 0.9187 - val_loss: 0.2349 - val_accuracy: 0.8950\n",
            "Epoch 29/100\n",
            "32/32 [==============================] - 1s 34ms/step - loss: 0.1902 - accuracy: 0.9216 - val_loss: 0.2826 - val_accuracy: 0.9087\n",
            "Epoch 30/100\n",
            "32/32 [==============================] - 1s 35ms/step - loss: 0.1962 - accuracy: 0.9160 - val_loss: 0.2470 - val_accuracy: 0.8858\n",
            "Epoch 31/100\n",
            "32/32 [==============================] - 1s 34ms/step - loss: 0.1658 - accuracy: 0.9348 - val_loss: 0.2830 - val_accuracy: 0.8813\n",
            "Epoch 32/100\n",
            "32/32 [==============================] - 1s 35ms/step - loss: 0.2021 - accuracy: 0.9170 - val_loss: 0.2311 - val_accuracy: 0.9178\n",
            "Epoch 33/100\n",
            "32/32 [==============================] - 1s 35ms/step - loss: 0.1727 - accuracy: 0.9275 - val_loss: 0.2376 - val_accuracy: 0.9224\n",
            "Epoch 34/100\n",
            "32/32 [==============================] - 1s 34ms/step - loss: 0.1817 - accuracy: 0.9196 - val_loss: 0.2733 - val_accuracy: 0.9087\n",
            "Epoch 35/100\n",
            "32/32 [==============================] - 1s 34ms/step - loss: 0.1791 - accuracy: 0.9343 - val_loss: 0.2399 - val_accuracy: 0.9224\n",
            "Epoch 36/100\n",
            "32/32 [==============================] - 1s 34ms/step - loss: 0.1606 - accuracy: 0.9258 - val_loss: 0.3003 - val_accuracy: 0.8995\n",
            "Epoch 37/100\n",
            "32/32 [==============================] - 1s 35ms/step - loss: 0.2042 - accuracy: 0.9090 - val_loss: 0.2425 - val_accuracy: 0.9132\n",
            "Epoch 38/100\n",
            "32/32 [==============================] - 1s 34ms/step - loss: 0.1518 - accuracy: 0.9402 - val_loss: 0.2616 - val_accuracy: 0.9087\n",
            "Epoch 39/100\n",
            "32/32 [==============================] - 1s 35ms/step - loss: 0.1444 - accuracy: 0.9370 - val_loss: 0.3319 - val_accuracy: 0.8721\n",
            "Epoch 40/100\n",
            "32/32 [==============================] - 1s 34ms/step - loss: 0.2050 - accuracy: 0.9155 - val_loss: 0.2348 - val_accuracy: 0.9132\n",
            "Epoch 41/100\n",
            "32/32 [==============================] - 1s 35ms/step - loss: 0.1468 - accuracy: 0.9499 - val_loss: 0.2529 - val_accuracy: 0.9132\n",
            "Epoch 42/100\n",
            "32/32 [==============================] - 1s 35ms/step - loss: 0.1646 - accuracy: 0.9337 - val_loss: 0.2405 - val_accuracy: 0.9041\n",
            "Epoch 43/100\n",
            "32/32 [==============================] - 1s 35ms/step - loss: 0.1549 - accuracy: 0.9480 - val_loss: 0.2183 - val_accuracy: 0.9269\n",
            "Epoch 44/100\n",
            "32/32 [==============================] - 1s 35ms/step - loss: 0.1657 - accuracy: 0.9338 - val_loss: 0.2611 - val_accuracy: 0.8995\n",
            "Epoch 45/100\n",
            "32/32 [==============================] - 1s 34ms/step - loss: 0.1717 - accuracy: 0.9317 - val_loss: 0.2567 - val_accuracy: 0.8995\n",
            "Epoch 46/100\n",
            "32/32 [==============================] - 1s 34ms/step - loss: 0.1553 - accuracy: 0.9328 - val_loss: 0.2252 - val_accuracy: 0.9269\n",
            "Epoch 47/100\n",
            "32/32 [==============================] - 1s 34ms/step - loss: 0.1340 - accuracy: 0.9465 - val_loss: 0.2677 - val_accuracy: 0.9087\n",
            "Epoch 48/100\n",
            "32/32 [==============================] - 1s 35ms/step - loss: 0.1342 - accuracy: 0.9509 - val_loss: 0.2701 - val_accuracy: 0.8950\n",
            "Epoch 49/100\n",
            "32/32 [==============================] - 1s 35ms/step - loss: 0.1577 - accuracy: 0.9296 - val_loss: 0.2711 - val_accuracy: 0.9041\n",
            "Epoch 50/100\n",
            "32/32 [==============================] - 1s 36ms/step - loss: 0.1907 - accuracy: 0.9159 - val_loss: 0.2368 - val_accuracy: 0.9178\n",
            "Epoch 51/100\n",
            "32/32 [==============================] - 1s 34ms/step - loss: 0.1766 - accuracy: 0.9309 - val_loss: 0.2837 - val_accuracy: 0.8950\n",
            "Epoch 52/100\n",
            "32/32 [==============================] - 1s 34ms/step - loss: 0.1437 - accuracy: 0.9427 - val_loss: 0.2590 - val_accuracy: 0.9269\n",
            "Epoch 53/100\n",
            "32/32 [==============================] - 1s 34ms/step - loss: 0.1403 - accuracy: 0.9405 - val_loss: 0.2843 - val_accuracy: 0.9041\n",
            "Epoch 54/100\n",
            "32/32 [==============================] - 1s 34ms/step - loss: 0.1340 - accuracy: 0.9326 - val_loss: 0.3054 - val_accuracy: 0.8950\n",
            "Epoch 55/100\n",
            "32/32 [==============================] - 1s 34ms/step - loss: 0.1452 - accuracy: 0.9482 - val_loss: 0.2493 - val_accuracy: 0.9224\n",
            "Epoch 56/100\n",
            "32/32 [==============================] - 1s 35ms/step - loss: 0.1595 - accuracy: 0.9394 - val_loss: 0.3555 - val_accuracy: 0.9087\n",
            "Epoch 57/100\n",
            "32/32 [==============================] - 1s 35ms/step - loss: 0.1578 - accuracy: 0.9390 - val_loss: 0.2482 - val_accuracy: 0.9132\n",
            "Epoch 58/100\n",
            "32/32 [==============================] - 1s 34ms/step - loss: 0.1302 - accuracy: 0.9457 - val_loss: 0.2584 - val_accuracy: 0.9178\n",
            "Epoch 59/100\n",
            "32/32 [==============================] - 1s 36ms/step - loss: 0.1326 - accuracy: 0.9470 - val_loss: 0.2344 - val_accuracy: 0.9224\n",
            "Epoch 60/100\n",
            "32/32 [==============================] - 1s 35ms/step - loss: 0.1594 - accuracy: 0.9450 - val_loss: 0.2789 - val_accuracy: 0.8767\n",
            "Epoch 61/100\n",
            "32/32 [==============================] - 1s 35ms/step - loss: 0.1767 - accuracy: 0.9258 - val_loss: 0.2221 - val_accuracy: 0.9269\n",
            "Epoch 62/100\n",
            "32/32 [==============================] - 1s 35ms/step - loss: 0.1546 - accuracy: 0.9450 - val_loss: 0.2765 - val_accuracy: 0.8995\n",
            "Epoch 63/100\n",
            "32/32 [==============================] - 1s 34ms/step - loss: 0.1606 - accuracy: 0.9435 - val_loss: 0.2482 - val_accuracy: 0.8858\n",
            "Epoch 64/100\n",
            "32/32 [==============================] - 1s 35ms/step - loss: 0.1320 - accuracy: 0.9496 - val_loss: 0.2384 - val_accuracy: 0.9178\n",
            "Epoch 65/100\n",
            "32/32 [==============================] - 1s 35ms/step - loss: 0.1191 - accuracy: 0.9586 - val_loss: 0.2900 - val_accuracy: 0.8950\n",
            "Epoch 66/100\n",
            "32/32 [==============================] - 1s 35ms/step - loss: 0.1139 - accuracy: 0.9578 - val_loss: 0.2672 - val_accuracy: 0.9315\n",
            "Epoch 67/100\n",
            "32/32 [==============================] - 1s 35ms/step - loss: 0.1395 - accuracy: 0.9512 - val_loss: 0.2955 - val_accuracy: 0.8813\n",
            "Epoch 68/100\n",
            "32/32 [==============================] - 1s 36ms/step - loss: 0.1345 - accuracy: 0.9516 - val_loss: 0.2597 - val_accuracy: 0.8995\n",
            "Epoch 69/100\n",
            "32/32 [==============================] - 1s 35ms/step - loss: 0.1338 - accuracy: 0.9497 - val_loss: 0.2519 - val_accuracy: 0.9178\n",
            "Epoch 70/100\n",
            "32/32 [==============================] - 1s 35ms/step - loss: 0.2022 - accuracy: 0.9246 - val_loss: 0.3703 - val_accuracy: 0.8904\n",
            "Epoch 71/100\n",
            "32/32 [==============================] - 1s 35ms/step - loss: 0.1468 - accuracy: 0.9448 - val_loss: 0.2622 - val_accuracy: 0.9224\n",
            "Epoch 72/100\n",
            "32/32 [==============================] - 1s 35ms/step - loss: 0.1591 - accuracy: 0.9416 - val_loss: 0.2294 - val_accuracy: 0.9041\n",
            "Epoch 73/100\n",
            "32/32 [==============================] - 1s 35ms/step - loss: 0.1306 - accuracy: 0.9518 - val_loss: 0.2970 - val_accuracy: 0.8995\n",
            "Epoch 74/100\n",
            "32/32 [==============================] - 1s 35ms/step - loss: 0.1461 - accuracy: 0.9362 - val_loss: 0.2954 - val_accuracy: 0.9041\n",
            "Epoch 75/100\n",
            "32/32 [==============================] - 1s 35ms/step - loss: 0.1372 - accuracy: 0.9445 - val_loss: 0.2715 - val_accuracy: 0.9087\n",
            "Epoch 76/100\n",
            "32/32 [==============================] - 1s 35ms/step - loss: 0.1153 - accuracy: 0.9545 - val_loss: 0.3186 - val_accuracy: 0.9132\n",
            "Epoch 77/100\n",
            "32/32 [==============================] - 1s 36ms/step - loss: 0.0873 - accuracy: 0.9737 - val_loss: 0.3050 - val_accuracy: 0.8950\n",
            "Epoch 78/100\n",
            "32/32 [==============================] - 1s 35ms/step - loss: 0.1025 - accuracy: 0.9596 - val_loss: 0.3290 - val_accuracy: 0.8995\n",
            "Epoch 79/100\n",
            "32/32 [==============================] - 1s 35ms/step - loss: 0.1215 - accuracy: 0.9530 - val_loss: 0.3329 - val_accuracy: 0.8858\n",
            "Epoch 80/100\n",
            "32/32 [==============================] - 1s 35ms/step - loss: 0.1256 - accuracy: 0.9555 - val_loss: 0.3524 - val_accuracy: 0.8767\n",
            "Epoch 81/100\n",
            "32/32 [==============================] - 1s 35ms/step - loss: 0.1163 - accuracy: 0.9580 - val_loss: 0.3548 - val_accuracy: 0.8584\n",
            "Epoch 82/100\n",
            "32/32 [==============================] - 1s 35ms/step - loss: 0.1316 - accuracy: 0.9393 - val_loss: 0.3250 - val_accuracy: 0.8950\n",
            "Epoch 83/100\n",
            "32/32 [==============================] - 1s 35ms/step - loss: 0.1188 - accuracy: 0.9531 - val_loss: 0.2786 - val_accuracy: 0.9087\n",
            "Epoch 84/100\n",
            "32/32 [==============================] - 1s 35ms/step - loss: 0.0969 - accuracy: 0.9535 - val_loss: 0.3003 - val_accuracy: 0.8950\n",
            "Epoch 85/100\n",
            "32/32 [==============================] - 1s 35ms/step - loss: 0.1186 - accuracy: 0.9523 - val_loss: 0.2993 - val_accuracy: 0.9041\n",
            "Epoch 86/100\n",
            "32/32 [==============================] - 1s 36ms/step - loss: 0.1251 - accuracy: 0.9635 - val_loss: 0.3593 - val_accuracy: 0.8858\n",
            "Epoch 87/100\n",
            "32/32 [==============================] - 1s 36ms/step - loss: 0.1165 - accuracy: 0.9569 - val_loss: 0.3965 - val_accuracy: 0.8950\n",
            "Epoch 88/100\n",
            "32/32 [==============================] - 1s 35ms/step - loss: 0.1305 - accuracy: 0.9566 - val_loss: 0.3606 - val_accuracy: 0.8904\n",
            "Epoch 89/100\n",
            "32/32 [==============================] - 1s 35ms/step - loss: 0.0954 - accuracy: 0.9668 - val_loss: 0.4676 - val_accuracy: 0.8858\n",
            "Epoch 90/100\n",
            "32/32 [==============================] - 1s 35ms/step - loss: 0.1271 - accuracy: 0.9545 - val_loss: 0.3087 - val_accuracy: 0.8904\n",
            "Epoch 91/100\n",
            "32/32 [==============================] - 1s 34ms/step - loss: 0.1358 - accuracy: 0.9348 - val_loss: 0.3428 - val_accuracy: 0.8813\n",
            "Epoch 92/100\n",
            "32/32 [==============================] - 1s 35ms/step - loss: 0.1303 - accuracy: 0.9536 - val_loss: 0.3552 - val_accuracy: 0.8813\n",
            "Epoch 93/100\n",
            "32/32 [==============================] - 1s 34ms/step - loss: 0.1085 - accuracy: 0.9636 - val_loss: 0.3647 - val_accuracy: 0.8813\n",
            "Epoch 94/100\n",
            "32/32 [==============================] - 1s 34ms/step - loss: 0.1030 - accuracy: 0.9620 - val_loss: 0.3679 - val_accuracy: 0.8950\n",
            "Epoch 95/100\n",
            "32/32 [==============================] - 1s 36ms/step - loss: 0.1318 - accuracy: 0.9419 - val_loss: 0.4055 - val_accuracy: 0.8904\n",
            "Epoch 96/100\n",
            "32/32 [==============================] - 1s 36ms/step - loss: 0.1419 - accuracy: 0.9452 - val_loss: 0.4313 - val_accuracy: 0.8630\n",
            "Epoch 97/100\n",
            "32/32 [==============================] - 1s 35ms/step - loss: 0.0920 - accuracy: 0.9746 - val_loss: 0.3346 - val_accuracy: 0.8950\n",
            "Epoch 98/100\n",
            "32/32 [==============================] - 1s 35ms/step - loss: 0.1119 - accuracy: 0.9585 - val_loss: 0.3027 - val_accuracy: 0.9041\n",
            "Epoch 99/100\n",
            "32/32 [==============================] - 1s 35ms/step - loss: 0.1470 - accuracy: 0.9462 - val_loss: 0.3603 - val_accuracy: 0.8858\n",
            "Epoch 100/100\n",
            "32/32 [==============================] - 1s 36ms/step - loss: 0.1237 - accuracy: 0.9420 - val_loss: 0.3721 - val_accuracy: 0.9087\n"
          ],
          "name": "stdout"
        }
      ]
    },
    {
      "cell_type": "code",
      "metadata": {
        "colab": {
          "base_uri": "https://localhost:8080/",
          "height": 295
        },
        "id": "hIMk9UDteyqg",
        "outputId": "48453b05-0ed9-4cdd-db63-7b244f276e1b"
      },
      "source": [
        "plt.plot(hist_2.history['loss'])\n",
        "plt.plot(hist_2.history['val_loss'])\n",
        "plt.title('Model loss')\n",
        "plt.ylabel('Loss')\n",
        "plt.xlabel('Epoch')\n",
        "plt.legend(['Train', 'Val'], loc='upper right')\n",
        "plt.show()\n",
        "\n",
        "#This graph is a clear indication that overfitting has occurred in our model. \n",
        "# The training loss is decreasing, but the validation loss is way above the training loss and increasing"
      ],
      "execution_count": 57,
      "outputs": [
        {
          "output_type": "display_data",
          "data": {
            "image/png": "[encoded data removed]",
            "text/plain": [
              "<Figure size 432x288 with 1 Axes>"
            ]
          },
          "metadata": {
            "tags": [],
            "needs_background": "light"
          }
        }
      ]
    },
    {
      "cell_type": "code",
      "metadata": {
        "colab": {
          "base_uri": "https://localhost:8080/",
          "height": 295
        },
        "id": "h74i5DCvfCDg",
        "outputId": "82404ad7-8956-45d3-e5d3-2eb9f10f54a5"
      },
      "source": [
        "plt.plot(hist_2.history['accuracy'])\n",
        "plt.plot(hist_2.history['val_accuracy'])\n",
        "plt.title('Model accuracy')\n",
        "plt.ylabel('Accuracy')\n",
        "plt.xlabel('Epoch')\n",
        "plt.legend(['Train', 'Val'], loc='lower right')\n",
        "plt.show()"
      ],
      "execution_count": 58,
      "outputs": [
        {
          "output_type": "display_data",
          "data": {
            "image/png": "[encoded data removed]",
            "text/plain": [
              "<Figure size 432x288 with 1 Axes>"
            ]
          },
          "metadata": {
            "tags": [],
            "needs_background": "light"
          }
        }
      ]
    },
    {
      "cell_type": "code",
      "metadata": {
        "id": "UmPYUZHRfP3_"
      },
      "source": [
        "# To mitigate overfitting, let us try regularization and dropout techniques.\n",
        "# L2 Regularization will be first\n",
        "\n",
        "from keras.layers import Dropout\n",
        "from keras import regularizers\n",
        "\n",
        "# Create a new model to incorporate regularization in\n",
        "\n",
        "model_3 = Sequential([\n",
        "    Dense(1000, activation='relu', kernel_regularizer=regularizers.l2(0.01), input_shape=(10,)), \n",
        "# kernel_regularizer tells Keras to include the squared values of those parameters in our overall loss function, and weight them by 0.01 in the loss function.\n",
        "    Dropout(0.3),\n",
        "# This means that the neurons in the previous layer has a probability of 0.3 in dropping out during training.\n",
        "    Dense(1000, activation='relu', kernel_regularizer=regularizers.l2(0.01)),\n",
        "    Dropout(0.3),\n",
        "    Dense(1000, activation='relu', kernel_regularizer=regularizers.l2(0.01)),\n",
        "    Dropout(0.3),\n",
        "    Dense(1000, activation='relu', kernel_regularizer=regularizers.l2(0.01)),\n",
        "    Dropout(0.3),\n",
        "    Dense(1, activation='sigmoid', kernel_regularizer=regularizers.l2(0.01)),\n",
        "])"
      ],
      "execution_count": 59,
      "outputs": []
    },
    {
      "cell_type": "code",
      "metadata": {
        "id": "YIP-7t5agDMR"
      },
      "source": [
        "model_3.compile(optimizer='adam',\n",
        "              loss='binary_crossentropy',\n",
        "              metrics=['accuracy'])"
      ],
      "execution_count": 60,
      "outputs": []
    },
    {
      "cell_type": "code",
      "metadata": {
        "colab": {
          "base_uri": "https://localhost:8080/"
        },
        "id": "nKzeOJGNgGSX",
        "outputId": "b925ff4b-6381-4274-b0ad-d8552bf77b96"
      },
      "source": [
        "hist_3 = model_3.fit(X_train, Y_train,\n",
        "          batch_size=32, epochs=100,\n",
        "          validation_data=(X_val, Y_val))"
      ],
      "execution_count": 61,
      "outputs": [
        {
          "output_type": "stream",
          "text": [
            "Epoch 1/100\n",
            "32/32 [==============================] - 4s 58ms/step - loss: 21.1280 - accuracy: 0.5142 - val_loss: 3.8988 - val_accuracy: 0.7260\n",
            "Epoch 2/100\n",
            "32/32 [==============================] - 1s 44ms/step - loss: 2.4726 - accuracy: 0.8185 - val_loss: 0.6654 - val_accuracy: 0.8813\n",
            "Epoch 3/100\n",
            "32/32 [==============================] - 1s 44ms/step - loss: 0.5807 - accuracy: 0.8798 - val_loss: 0.6210 - val_accuracy: 0.8174\n",
            "Epoch 4/100\n",
            "32/32 [==============================] - 1s 46ms/step - loss: 0.5221 - accuracy: 0.8848 - val_loss: 0.4968 - val_accuracy: 0.8995\n",
            "Epoch 5/100\n",
            "32/32 [==============================] - 1s 45ms/step - loss: 0.4998 - accuracy: 0.8511 - val_loss: 0.5173 - val_accuracy: 0.8447\n",
            "Epoch 6/100\n",
            "32/32 [==============================] - 1s 45ms/step - loss: 0.4978 - accuracy: 0.8601 - val_loss: 0.5510 - val_accuracy: 0.8311\n",
            "Epoch 7/100\n",
            "32/32 [==============================] - 1s 45ms/step - loss: 0.5069 - accuracy: 0.8659 - val_loss: 0.5888 - val_accuracy: 0.8356\n",
            "Epoch 8/100\n",
            "32/32 [==============================] - 1s 44ms/step - loss: 0.5110 - accuracy: 0.8610 - val_loss: 0.4764 - val_accuracy: 0.8721\n",
            "Epoch 9/100\n",
            "32/32 [==============================] - 1s 44ms/step - loss: 0.4543 - accuracy: 0.8765 - val_loss: 0.4448 - val_accuracy: 0.8995\n",
            "Epoch 10/100\n",
            "32/32 [==============================] - 1s 45ms/step - loss: 0.4568 - accuracy: 0.8876 - val_loss: 0.4399 - val_accuracy: 0.8950\n",
            "Epoch 11/100\n",
            "32/32 [==============================] - 1s 44ms/step - loss: 0.4557 - accuracy: 0.8800 - val_loss: 0.4295 - val_accuracy: 0.9087\n",
            "Epoch 12/100\n",
            "32/32 [==============================] - 1s 45ms/step - loss: 0.4644 - accuracy: 0.8602 - val_loss: 0.4438 - val_accuracy: 0.9087\n",
            "Epoch 13/100\n",
            "32/32 [==============================] - 1s 44ms/step - loss: 0.4687 - accuracy: 0.8666 - val_loss: 0.4433 - val_accuracy: 0.9132\n",
            "Epoch 14/100\n",
            "32/32 [==============================] - 1s 44ms/step - loss: 0.4542 - accuracy: 0.8863 - val_loss: 0.4953 - val_accuracy: 0.8493\n",
            "Epoch 15/100\n",
            "32/32 [==============================] - 1s 45ms/step - loss: 0.4607 - accuracy: 0.8854 - val_loss: 0.4395 - val_accuracy: 0.8904\n",
            "Epoch 16/100\n",
            "32/32 [==============================] - 1s 44ms/step - loss: 0.4612 - accuracy: 0.8723 - val_loss: 0.4423 - val_accuracy: 0.8904\n",
            "Epoch 17/100\n",
            "32/32 [==============================] - 1s 45ms/step - loss: 0.4630 - accuracy: 0.8745 - val_loss: 0.4212 - val_accuracy: 0.9132\n",
            "Epoch 18/100\n",
            "32/32 [==============================] - 1s 45ms/step - loss: 0.4437 - accuracy: 0.8843 - val_loss: 0.4292 - val_accuracy: 0.8950\n",
            "Epoch 19/100\n",
            "32/32 [==============================] - 1s 46ms/step - loss: 0.4608 - accuracy: 0.8806 - val_loss: 0.4329 - val_accuracy: 0.8904\n",
            "Epoch 20/100\n",
            "32/32 [==============================] - 1s 45ms/step - loss: 0.4754 - accuracy: 0.8710 - val_loss: 0.4117 - val_accuracy: 0.9224\n",
            "Epoch 21/100\n",
            "32/32 [==============================] - 1s 45ms/step - loss: 0.4408 - accuracy: 0.8808 - val_loss: 0.5328 - val_accuracy: 0.8356\n",
            "Epoch 22/100\n",
            "32/32 [==============================] - 1s 45ms/step - loss: 0.4388 - accuracy: 0.8958 - val_loss: 0.4253 - val_accuracy: 0.8950\n",
            "Epoch 23/100\n",
            "32/32 [==============================] - 1s 46ms/step - loss: 0.4460 - accuracy: 0.8862 - val_loss: 0.4133 - val_accuracy: 0.9224\n",
            "Epoch 24/100\n",
            "32/32 [==============================] - 1s 46ms/step - loss: 0.4381 - accuracy: 0.8837 - val_loss: 0.4221 - val_accuracy: 0.8995\n",
            "Epoch 25/100\n",
            "32/32 [==============================] - 1s 45ms/step - loss: 0.4613 - accuracy: 0.8779 - val_loss: 0.4179 - val_accuracy: 0.9132\n",
            "Epoch 26/100\n",
            "32/32 [==============================] - 1s 45ms/step - loss: 0.4194 - accuracy: 0.8935 - val_loss: 0.4171 - val_accuracy: 0.9132\n",
            "Epoch 27/100\n",
            "32/32 [==============================] - 1s 45ms/step - loss: 0.4383 - accuracy: 0.8846 - val_loss: 0.4146 - val_accuracy: 0.9132\n",
            "Epoch 28/100\n",
            "32/32 [==============================] - 1s 45ms/step - loss: 0.4245 - accuracy: 0.8921 - val_loss: 0.5153 - val_accuracy: 0.8082\n",
            "Epoch 29/100\n",
            "32/32 [==============================] - 1s 45ms/step - loss: 0.4448 - accuracy: 0.8723 - val_loss: 0.4187 - val_accuracy: 0.9087\n",
            "Epoch 30/100\n",
            "32/32 [==============================] - 1s 46ms/step - loss: 0.4492 - accuracy: 0.8599 - val_loss: 0.4069 - val_accuracy: 0.9041\n",
            "Epoch 31/100\n",
            "32/32 [==============================] - 1s 45ms/step - loss: 0.4133 - accuracy: 0.8998 - val_loss: 0.4224 - val_accuracy: 0.8858\n",
            "Epoch 32/100\n",
            "32/32 [==============================] - 1s 46ms/step - loss: 0.4267 - accuracy: 0.8905 - val_loss: 0.4051 - val_accuracy: 0.9041\n",
            "Epoch 33/100\n",
            "32/32 [==============================] - 1s 46ms/step - loss: 0.4489 - accuracy: 0.8666 - val_loss: 0.4308 - val_accuracy: 0.8904\n",
            "Epoch 34/100\n",
            "32/32 [==============================] - 1s 47ms/step - loss: 0.4427 - accuracy: 0.8750 - val_loss: 0.4041 - val_accuracy: 0.9041\n",
            "Epoch 35/100\n",
            "32/32 [==============================] - 2s 47ms/step - loss: 0.4271 - accuracy: 0.8846 - val_loss: 0.4235 - val_accuracy: 0.8950\n",
            "Epoch 36/100\n",
            "32/32 [==============================] - 1s 46ms/step - loss: 0.4411 - accuracy: 0.8695 - val_loss: 0.4065 - val_accuracy: 0.9224\n",
            "Epoch 37/100\n",
            "32/32 [==============================] - 1s 46ms/step - loss: 0.4400 - accuracy: 0.8873 - val_loss: 0.4070 - val_accuracy: 0.9224\n",
            "Epoch 38/100\n",
            "32/32 [==============================] - 1s 46ms/step - loss: 0.4651 - accuracy: 0.8788 - val_loss: 0.4075 - val_accuracy: 0.8995\n",
            "Epoch 39/100\n",
            "32/32 [==============================] - 1s 45ms/step - loss: 0.4281 - accuracy: 0.8968 - val_loss: 0.4052 - val_accuracy: 0.8950\n",
            "Epoch 40/100\n",
            "32/32 [==============================] - 1s 46ms/step - loss: 0.4137 - accuracy: 0.8926 - val_loss: 0.4032 - val_accuracy: 0.8995\n",
            "Epoch 41/100\n",
            "32/32 [==============================] - 1s 45ms/step - loss: 0.4224 - accuracy: 0.8797 - val_loss: 0.3969 - val_accuracy: 0.9132\n",
            "Epoch 42/100\n",
            "32/32 [==============================] - 1s 46ms/step - loss: 0.4568 - accuracy: 0.8687 - val_loss: 0.4212 - val_accuracy: 0.8950\n",
            "Epoch 43/100\n",
            "32/32 [==============================] - 1s 46ms/step - loss: 0.4641 - accuracy: 0.8689 - val_loss: 0.4027 - val_accuracy: 0.9178\n",
            "Epoch 44/100\n",
            "32/32 [==============================] - 1s 46ms/step - loss: 0.4353 - accuracy: 0.8796 - val_loss: 0.4002 - val_accuracy: 0.9041\n",
            "Epoch 45/100\n",
            "32/32 [==============================] - 2s 47ms/step - loss: 0.4085 - accuracy: 0.9014 - val_loss: 0.4063 - val_accuracy: 0.9178\n",
            "Epoch 46/100\n",
            "32/32 [==============================] - 1s 45ms/step - loss: 0.3956 - accuracy: 0.9065 - val_loss: 0.4053 - val_accuracy: 0.8904\n",
            "Epoch 47/100\n",
            "32/32 [==============================] - 1s 46ms/step - loss: 0.4151 - accuracy: 0.8973 - val_loss: 0.4000 - val_accuracy: 0.9087\n",
            "Epoch 48/100\n",
            "32/32 [==============================] - 1s 45ms/step - loss: 0.4312 - accuracy: 0.8817 - val_loss: 0.4276 - val_accuracy: 0.8858\n",
            "Epoch 49/100\n",
            "32/32 [==============================] - 1s 47ms/step - loss: 0.4245 - accuracy: 0.8843 - val_loss: 0.4300 - val_accuracy: 0.8813\n",
            "Epoch 50/100\n",
            "32/32 [==============================] - 1s 45ms/step - loss: 0.4471 - accuracy: 0.8880 - val_loss: 0.3983 - val_accuracy: 0.9087\n",
            "Epoch 51/100\n",
            "32/32 [==============================] - 1s 45ms/step - loss: 0.4033 - accuracy: 0.9087 - val_loss: 0.4734 - val_accuracy: 0.8447\n",
            "Epoch 52/100\n",
            "32/32 [==============================] - 1s 45ms/step - loss: 0.4196 - accuracy: 0.8940 - val_loss: 0.4039 - val_accuracy: 0.9132\n",
            "Epoch 53/100\n",
            "32/32 [==============================] - 1s 46ms/step - loss: 0.4572 - accuracy: 0.8622 - val_loss: 0.3944 - val_accuracy: 0.9087\n",
            "Epoch 54/100\n",
            "32/32 [==============================] - 1s 45ms/step - loss: 0.4193 - accuracy: 0.9047 - val_loss: 0.4197 - val_accuracy: 0.8904\n",
            "Epoch 55/100\n",
            "32/32 [==============================] - 1s 46ms/step - loss: 0.4463 - accuracy: 0.8768 - val_loss: 0.3981 - val_accuracy: 0.9087\n",
            "Epoch 56/100\n",
            "32/32 [==============================] - 1s 47ms/step - loss: 0.4145 - accuracy: 0.9031 - val_loss: 0.3944 - val_accuracy: 0.9224\n",
            "Epoch 57/100\n",
            "32/32 [==============================] - 1s 46ms/step - loss: 0.4350 - accuracy: 0.8800 - val_loss: 0.4045 - val_accuracy: 0.8950\n",
            "Epoch 58/100\n",
            "32/32 [==============================] - 1s 45ms/step - loss: 0.4645 - accuracy: 0.8634 - val_loss: 0.3969 - val_accuracy: 0.9087\n",
            "Epoch 59/100\n",
            "32/32 [==============================] - 1s 45ms/step - loss: 0.4654 - accuracy: 0.8729 - val_loss: 0.4497 - val_accuracy: 0.8584\n",
            "Epoch 60/100\n",
            "32/32 [==============================] - 1s 45ms/step - loss: 0.4702 - accuracy: 0.8608 - val_loss: 0.3988 - val_accuracy: 0.9041\n",
            "Epoch 61/100\n",
            "32/32 [==============================] - 1s 46ms/step - loss: 0.4509 - accuracy: 0.8718 - val_loss: 0.3987 - val_accuracy: 0.9087\n",
            "Epoch 62/100\n",
            "32/32 [==============================] - 1s 46ms/step - loss: 0.4130 - accuracy: 0.8930 - val_loss: 0.3964 - val_accuracy: 0.9132\n",
            "Epoch 63/100\n",
            "32/32 [==============================] - 1s 47ms/step - loss: 0.4238 - accuracy: 0.8897 - val_loss: 0.4230 - val_accuracy: 0.8950\n",
            "Epoch 64/100\n",
            "32/32 [==============================] - 1s 46ms/step - loss: 0.4332 - accuracy: 0.8941 - val_loss: 0.3950 - val_accuracy: 0.9178\n",
            "Epoch 65/100\n",
            "32/32 [==============================] - 2s 48ms/step - loss: 0.4269 - accuracy: 0.8804 - val_loss: 0.4493 - val_accuracy: 0.8584\n",
            "Epoch 66/100\n",
            "32/32 [==============================] - 1s 46ms/step - loss: 0.4595 - accuracy: 0.8727 - val_loss: 0.4186 - val_accuracy: 0.8904\n",
            "Epoch 67/100\n",
            "32/32 [==============================] - 1s 46ms/step - loss: 0.4146 - accuracy: 0.8881 - val_loss: 0.4052 - val_accuracy: 0.9224\n",
            "Epoch 68/100\n",
            "32/32 [==============================] - 1s 46ms/step - loss: 0.4326 - accuracy: 0.8783 - val_loss: 0.4059 - val_accuracy: 0.8995\n",
            "Epoch 69/100\n",
            "32/32 [==============================] - 1s 46ms/step - loss: 0.4642 - accuracy: 0.8599 - val_loss: 0.4014 - val_accuracy: 0.9224\n",
            "Epoch 70/100\n",
            "32/32 [==============================] - 1s 46ms/step - loss: 0.4274 - accuracy: 0.8842 - val_loss: 0.4023 - val_accuracy: 0.8995\n",
            "Epoch 71/100\n",
            "32/32 [==============================] - 1s 46ms/step - loss: 0.4514 - accuracy: 0.8897 - val_loss: 0.3939 - val_accuracy: 0.9224\n",
            "Epoch 72/100\n",
            "32/32 [==============================] - 1s 46ms/step - loss: 0.4133 - accuracy: 0.8953 - val_loss: 0.4561 - val_accuracy: 0.8584\n",
            "Epoch 73/100\n",
            "32/32 [==============================] - 1s 46ms/step - loss: 0.4443 - accuracy: 0.8827 - val_loss: 0.3914 - val_accuracy: 0.9178\n",
            "Epoch 74/100\n",
            "32/32 [==============================] - 1s 46ms/step - loss: 0.4325 - accuracy: 0.9064 - val_loss: 0.4165 - val_accuracy: 0.8904\n",
            "Epoch 75/100\n",
            "32/32 [==============================] - 1s 45ms/step - loss: 0.4501 - accuracy: 0.8646 - val_loss: 0.3954 - val_accuracy: 0.9041\n",
            "Epoch 76/100\n",
            "32/32 [==============================] - 1s 46ms/step - loss: 0.4369 - accuracy: 0.8671 - val_loss: 0.3918 - val_accuracy: 0.9178\n",
            "Epoch 77/100\n",
            "32/32 [==============================] - 1s 46ms/step - loss: 0.4170 - accuracy: 0.8919 - val_loss: 0.4035 - val_accuracy: 0.8904\n",
            "Epoch 78/100\n",
            "32/32 [==============================] - 1s 47ms/step - loss: 0.4179 - accuracy: 0.8896 - val_loss: 0.3998 - val_accuracy: 0.9041\n",
            "Epoch 79/100\n",
            "32/32 [==============================] - 1s 46ms/step - loss: 0.4368 - accuracy: 0.8848 - val_loss: 0.4131 - val_accuracy: 0.8904\n",
            "Epoch 80/100\n",
            "32/32 [==============================] - 1s 46ms/step - loss: 0.4344 - accuracy: 0.8740 - val_loss: 0.3957 - val_accuracy: 0.9087\n",
            "Epoch 81/100\n",
            "32/32 [==============================] - 1s 46ms/step - loss: 0.4223 - accuracy: 0.8860 - val_loss: 0.4389 - val_accuracy: 0.8630\n",
            "Epoch 82/100\n",
            "32/32 [==============================] - 2s 47ms/step - loss: 0.4252 - accuracy: 0.8911 - val_loss: 0.3980 - val_accuracy: 0.9178\n",
            "Epoch 83/100\n",
            "32/32 [==============================] - 1s 46ms/step - loss: 0.4305 - accuracy: 0.8861 - val_loss: 0.5339 - val_accuracy: 0.8356\n",
            "Epoch 84/100\n",
            "32/32 [==============================] - 1s 46ms/step - loss: 0.4593 - accuracy: 0.8763 - val_loss: 0.3953 - val_accuracy: 0.9224\n",
            "Epoch 85/100\n",
            "32/32 [==============================] - 1s 46ms/step - loss: 0.4243 - accuracy: 0.8792 - val_loss: 0.3908 - val_accuracy: 0.9178\n",
            "Epoch 86/100\n",
            "32/32 [==============================] - 1s 46ms/step - loss: 0.4139 - accuracy: 0.8991 - val_loss: 0.4188 - val_accuracy: 0.8995\n",
            "Epoch 87/100\n",
            "32/32 [==============================] - 1s 47ms/step - loss: 0.4516 - accuracy: 0.8683 - val_loss: 0.3908 - val_accuracy: 0.9224\n",
            "Epoch 88/100\n",
            "32/32 [==============================] - 1s 47ms/step - loss: 0.4393 - accuracy: 0.8699 - val_loss: 0.3898 - val_accuracy: 0.9224\n",
            "Epoch 89/100\n",
            "32/32 [==============================] - 1s 46ms/step - loss: 0.4223 - accuracy: 0.8857 - val_loss: 0.4443 - val_accuracy: 0.8584\n",
            "Epoch 90/100\n",
            "32/32 [==============================] - 1s 45ms/step - loss: 0.4453 - accuracy: 0.8792 - val_loss: 0.3909 - val_accuracy: 0.9224\n",
            "Epoch 91/100\n",
            "32/32 [==============================] - 1s 46ms/step - loss: 0.4316 - accuracy: 0.8830 - val_loss: 0.3933 - val_accuracy: 0.9087\n",
            "Epoch 92/100\n",
            "32/32 [==============================] - 1s 46ms/step - loss: 0.4293 - accuracy: 0.8897 - val_loss: 0.4004 - val_accuracy: 0.9178\n",
            "Epoch 93/100\n",
            "32/32 [==============================] - 1s 47ms/step - loss: 0.4409 - accuracy: 0.8604 - val_loss: 0.4022 - val_accuracy: 0.8995\n",
            "Epoch 94/100\n",
            "32/32 [==============================] - 1s 47ms/step - loss: 0.4171 - accuracy: 0.9009 - val_loss: 0.3948 - val_accuracy: 0.9087\n",
            "Epoch 95/100\n",
            "32/32 [==============================] - 1s 46ms/step - loss: 0.4284 - accuracy: 0.8829 - val_loss: 0.3904 - val_accuracy: 0.9132\n",
            "Epoch 96/100\n",
            "32/32 [==============================] - 1s 47ms/step - loss: 0.4228 - accuracy: 0.8979 - val_loss: 0.3942 - val_accuracy: 0.9087\n",
            "Epoch 97/100\n",
            "32/32 [==============================] - 1s 46ms/step - loss: 0.4391 - accuracy: 0.8867 - val_loss: 0.4150 - val_accuracy: 0.8995\n",
            "Epoch 98/100\n",
            "32/32 [==============================] - 2s 48ms/step - loss: 0.4339 - accuracy: 0.8840 - val_loss: 0.3961 - val_accuracy: 0.9087\n",
            "Epoch 99/100\n",
            "32/32 [==============================] - 2s 47ms/step - loss: 0.4337 - accuracy: 0.8765 - val_loss: 0.3894 - val_accuracy: 0.9224\n",
            "Epoch 100/100\n",
            "32/32 [==============================] - 1s 47ms/step - loss: 0.4333 - accuracy: 0.8898 - val_loss: 0.4047 - val_accuracy: 0.9224\n"
          ],
          "name": "stdout"
        }
      ]
    },
    {
      "cell_type": "code",
      "metadata": {
        "colab": {
          "base_uri": "https://localhost:8080/",
          "height": 295
        },
        "id": "rTBj3nAJhAB7",
        "outputId": "61e0ed59-82f0-43fc-ac4b-850e72549857"
      },
      "source": [
        "# Plot the loss of the graph\n",
        "# The validation loss much more closely matches our training loss.\n",
        "plt.plot(hist_3.history['loss'])\n",
        "plt.plot(hist_3.history['val_loss'])\n",
        "plt.title('Model loss')\n",
        "plt.ylabel('Loss')\n",
        "plt.xlabel('Epoch')\n",
        "plt.legend(['Train', 'Val'], loc='upper right')\n",
        "plt.ylim(top=1.2, bottom=0)\n",
        "plt.show()"
      ],
      "execution_count": 65,
      "outputs": [
        {
          "output_type": "display_data",
          "data": {
            "image/png": "[encoded data removed]",
            "text/plain": [
              "<Figure size 432x288 with 1 Axes>"
            ]
          },
          "metadata": {
            "tags": [],
            "needs_background": "light"
          }
        }
      ]
    },
    {
      "cell_type": "code",
      "metadata": {
        "colab": {
          "base_uri": "https://localhost:8080/",
          "height": 295
        },
        "id": "_9vkwXoWhOXY",
        "outputId": "3c1b98f0-cd4b-45ae-cf4b-dc61555fb515"
      },
      "source": [
        "plt.plot(hist_3.history['accuracy'])\n",
        "plt.plot(hist_3.history['val_accuracy'])\n",
        "plt.title('Model accuracy')\n",
        "plt.ylabel('Accuracy')\n",
        "plt.xlabel('Epoch')\n",
        "plt.legend(['Train', 'Val'], loc='lower right')\n",
        "plt.show()\n",
        "\n",
        "# The overfitting has been noticeably reduced since the previous graph"
      ],
      "execution_count": 64,
      "outputs": [
        {
          "output_type": "display_data",
          "data": {
            "image/png": "[encoded data removed]",
            "text/plain": [
              "<Figure size 432x288 with 1 Axes>"
            ]
          },
          "metadata": {
            "tags": [],
            "needs_background": "light"
          }
        }
      ]
    }
  ]
}