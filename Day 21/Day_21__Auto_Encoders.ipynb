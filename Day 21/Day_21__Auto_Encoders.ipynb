{
  "nbformat": 4,
  "nbformat_minor": 0,
  "metadata": {
    "colab": {
      "name": "Day 21 _Auto Encoders",
      "provenance": []
    },
    "kernelspec": {
      "name": "python3",
      "display_name": "Python 3"
    },
    "language_info": {
      "name": "python"
    },
    "accelerator": "GPU"
  },
  "cells": [
    {
      "cell_type": "code",
      "metadata": {
        "id": "QzxytsfempTu"
      },
      "source": [
        "# https://blog.keras.io/building-autoencoders-in-keras.html\n",
        "\n",
        "# 1. Simple Autoencoder based on a fully connected network (covered in this session)\n",
        "# 2. Sparse Autoencoder (pretty similar to the 1st autoencoder)\n",
        "# 3. Deep Autoencoder based on a fully connected network\n",
        "# 4. Deep Autoencoder based on a convolutional network\n",
        "# 5. Application of the 4th autoencoder - Image Dnoising model (covered in this session)\n",
        "# 6. A sequence-to-sequence autoencoder\n",
        "# 7. A variational autoencoder"
      ],
      "execution_count": null,
      "outputs": []
    },
    {
      "cell_type": "markdown",
      "metadata": {
        "id": "dvUhm1L5th2_"
      },
      "source": [
        "#1. Simple Autoencoder based on a fully connected network (covered in this session)\n"
      ]
    },
    {
      "cell_type": "code",
      "metadata": {
        "id": "LMjqhmxooX8t"
      },
      "source": [
        "import keras\n",
        "from keras import layers #this is to code the architecture of the autoencoder\n",
        "\n",
        "encoding_dim = 32 #latent representation dimension. Dimension of the middle hidden layer\n",
        "input_img = keras.Input(shape=(784,)) # a one-dimensional vector\n",
        "\n",
        "encoded = layers.Dense(encoding_dim, activation = 'relu')(input_img) #constructor to create a Dense layer. This will be an object that can take an input andd give an output\n",
        "#In this case, the input will be an image. This is a shallow autoencoder, with three layers. \n",
        "\n",
        "#Another example: \n",
        "# fn = init_function() <--- constructor\n",
        "# output = fn(input)\n",
        "# output = init_function()(input)\n",
        "\n",
        "decoded = layers.Dense(784, activation = 'sigmoid')(encoded) #Activation funcitons 'softmax' or 'sigmoid'\n",
        "autoencoder = keras.Model(input_img, decoded) #This is why we don't need to explicitly create a Sequential wrap. Keras does it for you.\n"
      ],
      "execution_count": null,
      "outputs": []
    },
    {
      "cell_type": "markdown",
      "metadata": {
        "id": "6fwg86IktmXu"
      },
      "source": [
        "#Create A Separate Encoder\n"
      ]
    },
    {
      "cell_type": "code",
      "metadata": {
        "id": "R8aqWiGGtqmu"
      },
      "source": [
        "#encoder = keras.Model(input_img, encoded) # Building encoder and decoder model separately then combining them in the end. They cannot be used separately\n",
        "#encoded_Input = keras.Input(shape=(encoding_dim,)) # necessary to define this input for the decoder\n",
        "#decoder_layer = layers.Dense(784, activation = 'sigmoid') #taking the last layer of the autoencoder\n",
        "#decoder = keras.Model"
      ],
      "execution_count": null,
      "outputs": []
    },
    {
      "cell_type": "code",
      "metadata": {
        "id": "2lemLbbZxDri"
      },
      "source": [
        "# Compile the model after you define it\n",
        "\n",
        "autoencoder.compile(optimizer='adam', loss='binary_crossentropy')"
      ],
      "execution_count": null,
      "outputs": []
    },
    {
      "cell_type": "code",
      "metadata": {
        "colab": {
          "base_uri": "https://localhost:8080/"
        },
        "id": "RQGWQWttxWVY",
        "outputId": "3a34b112-4fa8-43f7-ec7b-a00b4887ae51"
      },
      "source": [
        "from keras.datasets import mnist\n",
        "import numpy as np\n",
        "\n",
        "(X_train,_), (X_test,_) = mnist.load_data() #labels don't matter since autoencoders are designed just to reconstruct the image. The data is in the form of the array\n",
        "X_train = X_train.astype('float32')/255.0 #normalize the data to place it into between 0 and 1. The integers need to be floating points with decimals\n",
        "X_test = X_test.astype('float32')/255.0 #what you did for train you must do for test\n",
        "\n",
        "# after you normalize the data, you must reshape the data\n",
        "X_train = X_train.reshape((len(X_train), np.prod(X_train.shape[1:]))) # creating 2D images into 1 dimensional array. This is the flatten function in the sequential wrap\n",
        "X_test = X_test.reshape((len(X_test), np.prod(X_test.shape[1:])))\n",
        "print(X_train.shape, X_test.shape)"
      ],
      "execution_count": null,
      "outputs": [
        {
          "output_type": "stream",
          "text": [
            "(60000, 784) (10000, 784)\n"
          ],
          "name": "stdout"
        }
      ]
    },
    {
      "cell_type": "code",
      "metadata": {
        "colab": {
          "base_uri": "https://localhost:8080/"
        },
        "id": "-czB9iGqzmr6",
        "outputId": "86f06fd8-6628-4464-9d1f-8ef2ef56029d"
      },
      "source": [
        "autoencoder.fit(X_train, X_train, epochs=5, batch_size=256, shuffle=True, validation_data=(X_test,X_test)) #this is not classification, so there's no need for accuracy values\n",
        "# try for batch sizes 32, 64, 128 \n",
        "# try for epochs 10, 50, 100"
      ],
      "execution_count": null,
      "outputs": [
        {
          "output_type": "stream",
          "text": [
            "Epoch 1/5\n",
            "235/235 [==============================] - 1s 4ms/step - loss: 0.3824 - val_loss: 0.1881\n",
            "Epoch 2/5\n",
            "235/235 [==============================] - 1s 4ms/step - loss: 0.1787 - val_loss: 0.1533\n",
            "Epoch 3/5\n",
            "235/235 [==============================] - 1s 4ms/step - loss: 0.1494 - val_loss: 0.1339\n",
            "Epoch 4/5\n",
            "235/235 [==============================] - 1s 4ms/step - loss: 0.1318 - val_loss: 0.1214\n",
            "Epoch 5/5\n",
            "235/235 [==============================] - 1s 4ms/step - loss: 0.1204 - val_loss: 0.1128\n"
          ],
          "name": "stdout"
        },
        {
          "output_type": "execute_result",
          "data": {
            "text/plain": [
              "<keras.callbacks.History at 0x7f4d0f37a190>"
            ]
          },
          "metadata": {
            "tags": []
          },
          "execution_count": 24
        }
      ]
    },
    {
      "cell_type": "markdown",
      "metadata": {
        "id": "A8UqrR9g3DQM"
      },
      "source": [
        "#5. Application of the 4th autoencoder - Image Denoising model (covered in this session)\n"
      ]
    },
    {
      "cell_type": "code",
      "metadata": {
        "colab": {
          "base_uri": "https://localhost:8080/"
        },
        "id": "z_0LBHwY172K",
        "outputId": "bd29e7b1-7ad0-495f-9942-df3511c653c3"
      },
      "source": [
        "# mentors need to tell us how to visualize the actual and reconstructed images\n",
        "# Next step is to denoise the images\n",
        "\n",
        "from keras.datasets import mnist\n",
        "import numpy as np\n",
        "\n",
        "(X_train,_), (X_test,_) = mnist.load_data() #labels don't matter since autoencoders are designed just to reconstruct the image. The data is in the form of the array\n",
        "X_train = X_train.astype('float32')/255.0 #normalize the data to place it into between 0 and 1. The integers need to be floating points with decimals\n",
        "X_test = X_test.astype('float32')/255.0 #what you did for train you must do for test\n",
        "\n",
        "# after you normalize the data, you must reshape the data. This time we need to a fourth dimension, instead of flattening for 1 dimension\n",
        "X_train = X_train.reshape((len(X_train), X_train.shape[1], X_train.shape[2], 1)) # creating 2D images into 1 dimensional array. This is the flatten function in the sequential wrap\n",
        "X_test = X_test.reshape((len(X_test), X_test.shape[1], X_test.shape[2], 1))\n",
        "print(X_train.shape, X_test.shape)"
      ],
      "execution_count": null,
      "outputs": [
        {
          "output_type": "stream",
          "text": [
            "(60000, 28, 28, 1) (10000, 28, 28, 1)\n"
          ],
          "name": "stdout"
        }
      ]
    },
    {
      "cell_type": "code",
      "metadata": {
        "id": "QOlebQtc38KO"
      },
      "source": [
        "# Now we need to create noise. This allows us to train the model to reduce noise for images in the test\n",
        "\n",
        "noise_factor = 0.5\n",
        "X_train_noisy = X_train + noise_factor*np.random.normal(loc=0.0, scale=1.0, size = X_train.shape)\n",
        "X_test_noisy = X_test + noise_factor*np.random.normal(loc=0.0, scale=1.0, size = X_test.shape) \n",
        "#Gaussian/Normal distribution. Generate as many as noisy values as there are original values\n",
        "X_train_noisy = np.clip(X_train_noisy, 0.0, 1.0)\n",
        "X_test_noisy = np.clip(X_test_noisy, 0.0, 1.0)"
      ],
      "execution_count": null,
      "outputs": []
    },
    {
      "cell_type": "code",
      "metadata": {
        "colab": {
          "base_uri": "https://localhost:8080/",
          "height": 129
        },
        "id": "lJiVbKBU5Ytf",
        "outputId": "776966d7-e008-4f36-dbbb-1c743ba65675"
      },
      "source": [
        "import matplotlib.pyplot as plt\n",
        "\n",
        "n = 10\n",
        "plt.figure(figsize=(20, 2))\n",
        "for i in range(1, n + 1):\n",
        "    ax = plt.subplot(1, n, i)\n",
        "    plt.imshow(X_test_noisy[i].reshape(28, 28))\n",
        "    plt.gray()\n",
        "    ax.get_xaxis().set_visible(False)\n",
        "    ax.get_yaxis().set_visible(False)\n",
        "plt.show()"
      ],
      "execution_count": null,
      "outputs": [
        {
          "output_type": "display_data",
          "data": {
            "image/png": "[encoded data removed]",
            "text/plain": [
              "<Figure size 1440x144 with 10 Axes>"
            ]
          },
          "metadata": {
            "tags": [],
            "needs_background": "light"
          }
        }
      ]
    },
    {
      "cell_type": "code",
      "metadata": {
        "id": "DAjC2Au05uMD"
      },
      "source": [
        "input_img = keras.Input(shape=(28,28,1))\n",
        "\n",
        "# Define the encoder. Convolution layer\n",
        "x = layers.Conv2D(32, (3,3), activation = 'relu', padding='same')(input_img) #input the image into the convolution layer. Next up is the pooling layer\n",
        "x = layers.MaxPooling2D((2,2), padding='same')(x) #padding states that your input dimension should be the same as the output.\n",
        "x = layers.Conv2D(32, (3,3), activation = 'relu', padding='same')(x)\n",
        "encoded = layers.MaxPooling2D((2,2), padding='same')(x)\n",
        "\n",
        "# Define the decoder\n",
        "x = layers.Conv2D(32, (3,3), activation = 'relu', padding='same')(encoded)\n",
        "x = layers.UpSampling2D((2,2))(x) # This is the counterpart of max pooling where we unpool, multiply the convolution layer by the kernal and increase the...\n",
        "x = layers.Conv2D(32, (3,3), activation='relu', padding='same')(x)\n",
        "x = layers.UpSampling2D((2,2))(x)\n",
        "decoded = layers.Conv2D(1, (3,3), activation='sigmoid', padding='same')(x) #The last layer only requires 1 kernel, not 32.\n",
        "\n",
        "#autoencoder\n",
        "autoencoder = keras.Model(input_img, decoded) #autoencoder defined\n",
        "autoencoder.compile(optimizer='adam', loss='binary_crossentropy') #autoencoder compiled. Measure how far away the true value is from the prediction value (between 0 and 1)\n"
      ],
      "execution_count": null,
      "outputs": []
    },
    {
      "cell_type": "code",
      "metadata": {
        "colab": {
          "base_uri": "https://localhost:8080/"
        },
        "id": "hJzBE6UR-1Cn",
        "outputId": "8c6bbda3-d91f-41f1-a5d7-3ae983be3780"
      },
      "source": [
        "autoencoder.fit(X_train_noisy, X_train, epochs=100, batch_size=256, shuffle=True, validation_data=(X_test_noisy,X_test))"
      ],
      "execution_count": null,
      "outputs": [
        {
          "output_type": "stream",
          "text": [
            "Epoch 1/100\n",
            "235/235 [==============================] - 4s 13ms/step - loss: 0.3052 - val_loss: 0.1269\n",
            "Epoch 2/100\n",
            "235/235 [==============================] - 3s 11ms/step - loss: 0.1244 - val_loss: 0.1163\n",
            "Epoch 3/100\n",
            "235/235 [==============================] - 3s 11ms/step - loss: 0.1150 - val_loss: 0.1102\n",
            "Epoch 4/100\n",
            "235/235 [==============================] - 3s 11ms/step - loss: 0.1107 - val_loss: 0.1072\n",
            "Epoch 5/100\n",
            "235/235 [==============================] - 3s 11ms/step - loss: 0.1080 - val_loss: 0.1057\n",
            "Epoch 6/100\n",
            "235/235 [==============================] - 3s 11ms/step - loss: 0.1059 - val_loss: 0.1037\n",
            "Epoch 7/100\n",
            "235/235 [==============================] - 3s 11ms/step - loss: 0.1046 - val_loss: 0.1026\n",
            "Epoch 8/100\n",
            "235/235 [==============================] - 3s 12ms/step - loss: 0.1034 - val_loss: 0.1019\n",
            "Epoch 9/100\n",
            "235/235 [==============================] - 3s 11ms/step - loss: 0.1026 - val_loss: 0.1012\n",
            "Epoch 10/100\n",
            "235/235 [==============================] - 3s 11ms/step - loss: 0.1016 - val_loss: 0.1006\n",
            "Epoch 11/100\n",
            "235/235 [==============================] - 3s 11ms/step - loss: 0.1011 - val_loss: 0.1000\n",
            "Epoch 12/100\n",
            "235/235 [==============================] - 3s 11ms/step - loss: 0.1005 - val_loss: 0.0993\n",
            "Epoch 13/100\n",
            "235/235 [==============================] - 3s 11ms/step - loss: 0.1001 - val_loss: 0.0988\n",
            "Epoch 14/100\n",
            "235/235 [==============================] - 3s 12ms/step - loss: 0.0995 - val_loss: 0.0987\n",
            "Epoch 15/100\n",
            "235/235 [==============================] - 3s 11ms/step - loss: 0.0991 - val_loss: 0.0981\n",
            "Epoch 16/100\n",
            "235/235 [==============================] - 3s 12ms/step - loss: 0.0989 - val_loss: 0.0981\n",
            "Epoch 17/100\n",
            "235/235 [==============================] - 3s 11ms/step - loss: 0.0985 - val_loss: 0.0974\n",
            "Epoch 18/100\n",
            "235/235 [==============================] - 3s 11ms/step - loss: 0.0980 - val_loss: 0.0972\n",
            "Epoch 19/100\n",
            "235/235 [==============================] - 3s 11ms/step - loss: 0.0978 - val_loss: 0.0969\n",
            "Epoch 20/100\n",
            "235/235 [==============================] - 3s 11ms/step - loss: 0.0976 - val_loss: 0.0971\n",
            "Epoch 21/100\n",
            "235/235 [==============================] - 3s 11ms/step - loss: 0.0973 - val_loss: 0.0966\n",
            "Epoch 22/100\n",
            "235/235 [==============================] - 3s 11ms/step - loss: 0.0971 - val_loss: 0.0964\n",
            "Epoch 23/100\n",
            "235/235 [==============================] - 3s 11ms/step - loss: 0.0970 - val_loss: 0.0961\n",
            "Epoch 24/100\n",
            "235/235 [==============================] - 3s 11ms/step - loss: 0.0967 - val_loss: 0.0962\n",
            "Epoch 25/100\n",
            "235/235 [==============================] - 3s 11ms/step - loss: 0.0965 - val_loss: 0.0962\n",
            "Epoch 26/100\n",
            "235/235 [==============================] - 3s 11ms/step - loss: 0.0963 - val_loss: 0.0958\n",
            "Epoch 27/100\n",
            "235/235 [==============================] - 3s 11ms/step - loss: 0.0963 - val_loss: 0.0956\n",
            "Epoch 28/100\n",
            "235/235 [==============================] - 3s 11ms/step - loss: 0.0962 - val_loss: 0.0955\n",
            "Epoch 29/100\n",
            "235/235 [==============================] - 3s 11ms/step - loss: 0.0960 - val_loss: 0.0956\n",
            "Epoch 30/100\n",
            "235/235 [==============================] - 3s 11ms/step - loss: 0.0958 - val_loss: 0.0953\n",
            "Epoch 31/100\n",
            "235/235 [==============================] - 3s 11ms/step - loss: 0.0957 - val_loss: 0.0953\n",
            "Epoch 32/100\n",
            "235/235 [==============================] - 3s 11ms/step - loss: 0.0955 - val_loss: 0.0953\n",
            "Epoch 33/100\n",
            "235/235 [==============================] - 3s 11ms/step - loss: 0.0955 - val_loss: 0.0952\n",
            "Epoch 34/100\n",
            "235/235 [==============================] - 3s 11ms/step - loss: 0.0955 - val_loss: 0.0952\n",
            "Epoch 35/100\n",
            "235/235 [==============================] - 3s 11ms/step - loss: 0.0956 - val_loss: 0.0952\n",
            "Epoch 36/100\n",
            "235/235 [==============================] - 3s 11ms/step - loss: 0.0954 - val_loss: 0.0949\n",
            "Epoch 37/100\n",
            "235/235 [==============================] - 3s 11ms/step - loss: 0.0952 - val_loss: 0.0949\n",
            "Epoch 38/100\n",
            "235/235 [==============================] - 3s 11ms/step - loss: 0.0953 - val_loss: 0.0950\n",
            "Epoch 39/100\n",
            "235/235 [==============================] - 3s 11ms/step - loss: 0.0952 - val_loss: 0.0948\n",
            "Epoch 40/100\n",
            "235/235 [==============================] - 3s 11ms/step - loss: 0.0950 - val_loss: 0.0948\n",
            "Epoch 41/100\n",
            "235/235 [==============================] - 3s 11ms/step - loss: 0.0950 - val_loss: 0.0947\n",
            "Epoch 42/100\n",
            "235/235 [==============================] - 3s 11ms/step - loss: 0.0948 - val_loss: 0.0946\n",
            "Epoch 43/100\n",
            "235/235 [==============================] - 3s 11ms/step - loss: 0.0949 - val_loss: 0.0945\n",
            "Epoch 44/100\n",
            "235/235 [==============================] - 3s 11ms/step - loss: 0.0947 - val_loss: 0.0945\n",
            "Epoch 45/100\n",
            "235/235 [==============================] - 3s 11ms/step - loss: 0.0949 - val_loss: 0.0945\n",
            "Epoch 46/100\n",
            "235/235 [==============================] - 3s 11ms/step - loss: 0.0946 - val_loss: 0.0946\n",
            "Epoch 47/100\n",
            "235/235 [==============================] - 3s 11ms/step - loss: 0.0948 - val_loss: 0.0945\n",
            "Epoch 48/100\n",
            "235/235 [==============================] - 3s 11ms/step - loss: 0.0947 - val_loss: 0.0944\n",
            "Epoch 49/100\n",
            "235/235 [==============================] - 3s 11ms/step - loss: 0.0947 - val_loss: 0.0944\n",
            "Epoch 50/100\n",
            "235/235 [==============================] - 3s 11ms/step - loss: 0.0946 - val_loss: 0.0943\n",
            "Epoch 51/100\n",
            "235/235 [==============================] - 3s 11ms/step - loss: 0.0945 - val_loss: 0.0942\n",
            "Epoch 52/100\n",
            "235/235 [==============================] - 3s 11ms/step - loss: 0.0944 - val_loss: 0.0941\n",
            "Epoch 53/100\n",
            "235/235 [==============================] - 3s 11ms/step - loss: 0.0942 - val_loss: 0.0942\n",
            "Epoch 54/100\n",
            "235/235 [==============================] - 3s 11ms/step - loss: 0.0942 - val_loss: 0.0941\n",
            "Epoch 55/100\n",
            "235/235 [==============================] - 3s 11ms/step - loss: 0.0943 - val_loss: 0.0941\n",
            "Epoch 56/100\n",
            "235/235 [==============================] - 3s 12ms/step - loss: 0.0945 - val_loss: 0.0941\n",
            "Epoch 57/100\n",
            "235/235 [==============================] - 3s 11ms/step - loss: 0.0943 - val_loss: 0.0943\n",
            "Epoch 58/100\n",
            "235/235 [==============================] - 3s 11ms/step - loss: 0.0941 - val_loss: 0.0941\n",
            "Epoch 59/100\n",
            "235/235 [==============================] - 3s 11ms/step - loss: 0.0942 - val_loss: 0.0940\n",
            "Epoch 60/100\n",
            "235/235 [==============================] - 3s 11ms/step - loss: 0.0942 - val_loss: 0.0940\n",
            "Epoch 61/100\n",
            "235/235 [==============================] - 3s 11ms/step - loss: 0.0943 - val_loss: 0.0939\n",
            "Epoch 62/100\n",
            "235/235 [==============================] - 3s 11ms/step - loss: 0.0940 - val_loss: 0.0940\n",
            "Epoch 63/100\n",
            "235/235 [==============================] - 3s 11ms/step - loss: 0.0941 - val_loss: 0.0940\n",
            "Epoch 64/100\n",
            "235/235 [==============================] - 3s 11ms/step - loss: 0.0939 - val_loss: 0.0938\n",
            "Epoch 65/100\n",
            "235/235 [==============================] - 3s 11ms/step - loss: 0.0939 - val_loss: 0.0938\n",
            "Epoch 66/100\n",
            "235/235 [==============================] - 3s 11ms/step - loss: 0.0939 - val_loss: 0.0940\n",
            "Epoch 67/100\n",
            "235/235 [==============================] - 3s 11ms/step - loss: 0.0938 - val_loss: 0.0938\n",
            "Epoch 68/100\n",
            "235/235 [==============================] - 3s 11ms/step - loss: 0.0938 - val_loss: 0.0938\n",
            "Epoch 69/100\n",
            "235/235 [==============================] - 3s 11ms/step - loss: 0.0939 - val_loss: 0.0938\n",
            "Epoch 70/100\n",
            "235/235 [==============================] - 3s 11ms/step - loss: 0.0940 - val_loss: 0.0937\n",
            "Epoch 71/100\n",
            "235/235 [==============================] - 3s 11ms/step - loss: 0.0939 - val_loss: 0.0938\n",
            "Epoch 72/100\n",
            "235/235 [==============================] - 3s 11ms/step - loss: 0.0939 - val_loss: 0.0937\n",
            "Epoch 73/100\n",
            "235/235 [==============================] - 3s 11ms/step - loss: 0.0939 - val_loss: 0.0938\n",
            "Epoch 74/100\n",
            "235/235 [==============================] - 3s 12ms/step - loss: 0.0938 - val_loss: 0.0937\n",
            "Epoch 75/100\n",
            "235/235 [==============================] - 3s 11ms/step - loss: 0.0939 - val_loss: 0.0938\n",
            "Epoch 76/100\n",
            "235/235 [==============================] - 3s 11ms/step - loss: 0.0939 - val_loss: 0.0938\n",
            "Epoch 77/100\n",
            "235/235 [==============================] - 3s 11ms/step - loss: 0.0937 - val_loss: 0.0937\n",
            "Epoch 78/100\n",
            "235/235 [==============================] - 3s 11ms/step - loss: 0.0937 - val_loss: 0.0936\n",
            "Epoch 79/100\n",
            "235/235 [==============================] - 3s 11ms/step - loss: 0.0938 - val_loss: 0.0936\n",
            "Epoch 80/100\n",
            "235/235 [==============================] - 3s 11ms/step - loss: 0.0935 - val_loss: 0.0936\n",
            "Epoch 81/100\n",
            "235/235 [==============================] - 3s 11ms/step - loss: 0.0937 - val_loss: 0.0936\n",
            "Epoch 82/100\n",
            "235/235 [==============================] - 3s 11ms/step - loss: 0.0937 - val_loss: 0.0935\n",
            "Epoch 83/100\n",
            "235/235 [==============================] - 3s 11ms/step - loss: 0.0937 - val_loss: 0.0936\n",
            "Epoch 84/100\n",
            "235/235 [==============================] - 3s 11ms/step - loss: 0.0936 - val_loss: 0.0936\n",
            "Epoch 85/100\n",
            "235/235 [==============================] - 3s 11ms/step - loss: 0.0935 - val_loss: 0.0936\n",
            "Epoch 86/100\n",
            "235/235 [==============================] - 3s 11ms/step - loss: 0.0937 - val_loss: 0.0936\n",
            "Epoch 87/100\n",
            "235/235 [==============================] - 3s 11ms/step - loss: 0.0935 - val_loss: 0.0935\n",
            "Epoch 88/100\n",
            "235/235 [==============================] - 3s 11ms/step - loss: 0.0936 - val_loss: 0.0935\n",
            "Epoch 89/100\n",
            "235/235 [==============================] - 3s 11ms/step - loss: 0.0934 - val_loss: 0.0935\n",
            "Epoch 90/100\n",
            "235/235 [==============================] - 3s 12ms/step - loss: 0.0935 - val_loss: 0.0939\n",
            "Epoch 91/100\n",
            "235/235 [==============================] - 3s 11ms/step - loss: 0.0935 - val_loss: 0.0941\n",
            "Epoch 92/100\n",
            "235/235 [==============================] - 3s 11ms/step - loss: 0.0935 - val_loss: 0.0934\n",
            "Epoch 93/100\n",
            "235/235 [==============================] - 3s 11ms/step - loss: 0.0936 - val_loss: 0.0935\n",
            "Epoch 94/100\n",
            "235/235 [==============================] - 3s 11ms/step - loss: 0.0935 - val_loss: 0.0936\n",
            "Epoch 95/100\n",
            "235/235 [==============================] - 3s 11ms/step - loss: 0.0937 - val_loss: 0.0934\n",
            "Epoch 96/100\n",
            "235/235 [==============================] - 3s 11ms/step - loss: 0.0935 - val_loss: 0.0937\n",
            "Epoch 97/100\n",
            "235/235 [==============================] - 3s 11ms/step - loss: 0.0935 - val_loss: 0.0933\n",
            "Epoch 98/100\n",
            "235/235 [==============================] - 3s 11ms/step - loss: 0.0935 - val_loss: 0.0934\n",
            "Epoch 99/100\n",
            "235/235 [==============================] - 3s 11ms/step - loss: 0.0934 - val_loss: 0.0935\n",
            "Epoch 100/100\n",
            "235/235 [==============================] - 3s 11ms/step - loss: 0.0936 - val_loss: 0.0935\n"
          ],
          "name": "stdout"
        },
        {
          "output_type": "execute_result",
          "data": {
            "text/plain": [
              "<keras.callbacks.History at 0x7f4d0e6e3ed0>"
            ]
          },
          "metadata": {
            "tags": []
          },
          "execution_count": 29
        }
      ]
    },
    {
      "cell_type": "code",
      "metadata": {
        "colab": {
          "base_uri": "https://localhost:8080/",
          "height": 248
        },
        "id": "MYGN0PrgBDPD",
        "outputId": "bc983f67-fa99-4f9e-c772-16e13ffef78a"
      },
      "source": [
        "n = 10\n",
        "plt.figure(figsize=(20, 4))\n",
        "for i in range(1, n + 1):\n",
        "    # Display original\n",
        "    ax = plt.subplot(2, n, i)\n",
        "    plt.imshow(X_test_noisy[i].reshape(28, 28))\n",
        "    plt.gray()\n",
        "    ax.get_xaxis().set_visible(False)\n",
        "    ax.get_yaxis().set_visible(False)\n",
        "\n",
        "    # Display reconstruction\n",
        "    ax = plt.subplot(2, n, i + n)\n",
        "    plt.imshow(X_test[i].reshape(28, 28))\n",
        "    #plt.imshow(decoded[i].reshape(28, 28))\n",
        "    plt.gray()\n",
        "    ax.get_xaxis().set_visible(False)\n",
        "    ax.get_yaxis().set_visible(False)\n",
        "plt.show()"
      ],
      "execution_count": null,
      "outputs": [
        {
          "output_type": "display_data",
          "data": {
            "image/png": "[encoded data removed]",
            "text/plain": [
              "<Figure size 1440x288 with 20 Axes>"
            ]
          },
          "metadata": {
            "tags": [],
            "needs_background": "light"
          }
        }
      ]
    }
  ]
}