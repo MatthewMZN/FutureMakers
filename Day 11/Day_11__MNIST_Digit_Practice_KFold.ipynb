{
  "nbformat": 4,
  "nbformat_minor": 0,
  "metadata": {
    "colab": {
      "name": "Day 11_ MNIST Digit Practice_KFold",
      "provenance": [],
      "collapsed_sections": []
    },
    "kernelspec": {
      "name": "python3",
      "display_name": "Python 3"
    },
    "language_info": {
      "name": "python"
    },
    "accelerator": "GPU"
  },
  "cells": [
    {
      "cell_type": "code",
      "metadata": {
        "id": "Nk8yGpX9nG9x"
      },
      "source": [
        "#Importing the libraries\n",
        "\n",
        "from numpy import mean\n",
        "from numpy import std\n",
        "from matplotlib import pyplot #plot accuracy & loss curves\n",
        "from sklearn.model_selection import KFold \n",
        "from keras.datasets import mnist \n",
        "from tensorflow.keras.utils import to_categorical\n",
        "from keras.models import Sequential\n",
        "from keras.layers import Conv2D\n",
        "from keras.layers import MaxPooling2D\n",
        "from keras.layers import Dense\n",
        "from keras.layers import Flatten\n",
        "from keras.optimizers import SGD"
      ],
      "execution_count": 9,
      "outputs": []
    },
    {
      "cell_type": "code",
      "metadata": {
        "id": "W3XeqI7FowEc"
      },
      "source": [
        "#Load the train and test data set from mnist\n",
        "\n",
        "def load_dataset():\n",
        "  (trainX, trainY), (testX, testY) = mnist.load_data() #this will store the x = pixel values and y = labels. 10 labels with 28 x 28 pixels. This will save data into our variables\n",
        "  #this function already splits the data into sets\n",
        "  trainX = trainX.reshape((-1,28,28,1)) #whatever you do to the training data, you do to the test data\n",
        "#our original shape was (60,000,28,28) with no channels listed. The channels tell the machine that we are working with grayscale imaging\n",
        "#channel are color channel, for grey scale it is 1, for color image it is 3 (for red, blue, green), so on...\n",
        "#we want to add a grayscale channel, or dimension, since the function is expecting a 4 dimensional input\n",
        "  testX = testX.reshape((-1,28,28,1))\n",
        "  trainY = to_categorical(trainY) \n",
        "#use this to convert our labels into one-hot representation\n",
        "#(0,1,2,3,4,5,6,7,8,9) are our oringinal labels that we convert into one-hot encoding that removes algorith bias to higher numbers in the data \n",
        "#0 = (1,0,0,0,0,0,0,0,0,0), 1 = (0,1,0,0,0,0,0,0,0,0), etc.\n",
        "  testY = to_categorical(testY)\n",
        "  return trainX, trainY, testX, testY\n"
      ],
      "execution_count": 8,
      "outputs": []
    },
    {
      "cell_type": "code",
      "metadata": {
        "id": "4EsurOJdrp6Z"
      },
      "source": [
        "#Standardization (scaling the features/pixels)\n",
        "\n",
        "def prep_pixels(train, test):\n",
        "  train_norm = train.astype('float32') #covert integers into float to later divide by a floating point number. This adds a decimal point and a 0 at the end\n",
        "  test_norm = test.astype('float32')\n",
        "  train_norm = train_norm/255.0 #here we are normalizing the values of the pixels to place them in between [0,1]\n",
        "  test_norm = test_norm/255.0\n",
        "  return train_norm, test_norm"
      ],
      "execution_count": 7,
      "outputs": []
    },
    {
      "cell_type": "code",
      "metadata": {
        "id": "fTKQdMQ-tBaj"
      },
      "source": [
        "#Define the architecture of our CNN\n",
        "#def define_model(): \n",
        "  #define the model and its layers\n",
        "  #model = Sequential() #calling on the Sequential class\n",
        "  #model.add(Conv2D(32, (3,3), activation='relu', kernal_initializer='he_uniform', input_shape=(28,28,1)) #adding the first layer [conv, pool, conv, pool, dense, dense]\n",
        "  #model.add(MaxPooling2D((2,2))) \n",
        "  #Ask what maxpooling does\n",
        "  #model.add(Flatten())#change 2D output into a 1 dimensional vector, in order to feed it into a dense layer\n",
        "  #model.add(Dense(100,activation='relu',kernel_initializer='he_uniform')) #100 neurons int his layer\n",
        "  #model.add(Dense(10,activation='softmax'))#10 neurons sinze we have 10 labels based off of y\n",
        "\n",
        "  #Compile the model\n",
        "  #opt = SGD(learning_rate=0.01, momentum=0.9) #this is an optimizer with chosen parameters\n",
        "  #model.compile(optimizer=opt, loss='categorical_crossentropy', metrics=['accuracy'])\n",
        "  #return model\n"
      ],
      "execution_count": 6,
      "outputs": []
    },
    {
      "cell_type": "code",
      "metadata": {
        "id": "6PD2hOSBvnzx"
      },
      "source": [
        "def define_model():\n",
        "  # define the model\n",
        "  model = Sequential()\n",
        "  model.add(Conv2D(32, (3, 3), activation='relu', kernel_initializer='he_uniform', input_shape=(28, 28, 1)))\n",
        "  model.add(MaxPooling2D((2, 2)))\n",
        "  model.add(Flatten())\n",
        "  model.add(Dense(100, activation='relu', kernel_initializer='he_uniform'))\n",
        "  model.add(Dense(10, activation='softmax'))\n",
        "  # compile the model\n",
        "  opt = SGD(learning_rate=0.01, momentum=0.9)\n",
        "  model.compile(optimizer=opt, loss='categorical_crossentropy', metrics=['accuracy'])\n",
        "  return model\n"
      ],
      "execution_count": 5,
      "outputs": []
    },
    {
      "cell_type": "code",
      "metadata": {
        "id": "_Y5b3dfpv3aP"
      },
      "source": [
        "#Evaluate the model using K-fold CV\n",
        "def evaluate_model(dataX, dataY, n_folds=5): #all the pixel values and corresponding labels\n",
        "  scores, histories = list(), list() #this tells python that these variables are lists\n",
        "  kfold = KFold(n_folds, shuffle=True, random_state=1) #shuffle juggles the data before we make the folds. Random_state allows for reproducability, 'seed' value\n",
        "  #cross validation, dividing the training set into k sections, where we choose 1 out of the k sections as testing data, and uses the remaining sections \n",
        "  #as training data. The iterations generate a value E, that represents the training accuracy. Each fold is shifted after each iteration\n",
        "  #Each iteration will produce a corresponding model test accuracy. We then take each E for k-fold, average them to get a better understanding of our accuracy\n",
        "  #.split divides the data into the number of folds defined. Use the for loop to iterate over all the folds\n",
        "  for train_iX, test_iX in kfold.split(dataX): \n",
        "    model = define_model()\n",
        "    trainX, trainY, testX, testY = dataX[train_iX], dataY[train_iX], dataX[test_iX], dataY[test_iX]\n",
        "    history = model.fit(trainX, trainY, epochs=10, batch_size=32, validation_data=(testX,testY), verbose=0) #verbose reduces number of lines and hihglights the accuracy values\n",
        "    _, acc = model.evaluate(testX, testY, verbose=0) #output = [0.2, 0.6]. First number is the loss, second number is the accuracy. This stores the acc value in the second spot\n",
        "    print('>%0.3f' % (acc*100.0)) #want accuracy to have 3 digits after the decimal point\n",
        "    scores.append(acc) #store it into the scores list. The list has 5 elements which will be the accuracy of each fold\n",
        "    histories.append(history) #Same here\n",
        "  return scores, histories"
      ],
      "execution_count": 4,
      "outputs": []
    },
    {
      "cell_type": "code",
      "metadata": {
        "id": "C29QhwHZ1FH5"
      },
      "source": [
        "# Plot the curves\n",
        "\n",
        "def summarize_diagnostics(histories): #histories is an array with 5 elements\n",
        "  for i in range(len(histories)):\n",
        "    pyplot.subplot(2,1,1) #plotting 2 plots in 1 figure. 2 plots 1 column, 2 rows\n",
        "    pyplot.title('Cross Entropy Loss')\n",
        "    pyplot.plot(histories[i].history['loss'], color='blue', label='train')\n",
        "    pyplot.plot(histories[i].history['val_loss'], color='orange', label='test')\n",
        "    \n",
        "    pyplot.subplot(2,1,2)    \n",
        "    pyplot.title('Classification Accuracy')\n",
        "    pyplot.plot(histories[i].history['accuracy'], color='blue', label='train')\n",
        "    pyplot.plot(histories[i].history['val_accuracy'], color='orange', label='test')\n",
        "  pyplot.show()"
      ],
      "execution_count": 3,
      "outputs": []
    },
    {
      "cell_type": "code",
      "metadata": {
        "id": "pTDU7H9q2dgY"
      },
      "source": [
        "#Summarize the Model Performance \n",
        "\n",
        "def summarize_performance(scores): #take the scores array\n",
        "  print('Accuracy: mean=%0.3f, std=%0.3f, n=%d' % (mean(scores)*100, std(scores)*100, len(scores)))\n",
        "  pyplot.boxplot(scores) # this represents the highest value, the lowest value and the median value with orange line, the 75th then 25th percentile\n",
        "  pyplot.show()"
      ],
      "execution_count": 2,
      "outputs": []
    },
    {
      "cell_type": "code",
      "metadata": {
        "id": "PvIUvfTM3f3s"
      },
      "source": [
        "#Run the test harness for evaluating model using the test set\n",
        "\n",
        "def run_test_harness():\n",
        "  trainX, trainY, testX, testY = load_dataset() #loading mnist\n",
        "  trainX, testX = prep_pixels(trainX, testX) #pixel values for train and test set\n",
        "  scores, histories = evaluate_model(trainX, trainY,n_folds=5) #n_folds are still 5 from previous\n",
        "  summarize_diagnostics(histories)\n",
        "  summarize_performance(scores) #print the accuracy values"
      ],
      "execution_count": 1,
      "outputs": []
    },
    {
      "cell_type": "code",
      "metadata": {
        "colab": {
          "base_uri": "https://localhost:8080/",
          "height": 719
        },
        "id": "bV2EqEdw4frO",
        "outputId": "e308371c-e611-4cc4-bb21-2bbd3d083553"
      },
      "source": [
        "# Run the test harness function\n",
        "run_test_harness()"
      ],
      "execution_count": null,
      "outputs": [
        {
          "output_type": "stream",
          "text": [
            ">98.417\n",
            ">98.567\n",
            ">98.633\n",
            ">98.692\n",
            ">98.867\n"
          ],
          "name": "stdout"
        },
        {
          "output_type": "stream",
          "text": [
            "/usr/local/lib/python3.7/dist-packages/ipykernel_launcher.py:5: MatplotlibDeprecationWarning: Adding an axes using the same arguments as a previous axes currently reuses the earlier instance.  In a future version, a new instance will always be created and returned.  Meanwhile, this warning can be suppressed, and the future behavior ensured, by passing a unique label to each axes instance.\n",
            "  \"\"\"\n",
            "/usr/local/lib/python3.7/dist-packages/ipykernel_launcher.py:10: MatplotlibDeprecationWarning: Adding an axes using the same arguments as a previous axes currently reuses the earlier instance.  In a future version, a new instance will always be created and returned.  Meanwhile, this warning can be suppressed, and the future behavior ensured, by passing a unique label to each axes instance.\n",
            "  # Remove the CWD from sys.path while we load stuff.\n"
          ],
          "name": "stderr"
        },
        {
          "output_type": "display_data",
          "data": {
            "image/png": "[encoded data removed]",
            "text/plain": [
              "<Figure size 432x288 with 2 Axes>"
            ]
          },
          "metadata": {
            "tags": [],
            "needs_background": "light"
          }
        },
        {
          "output_type": "stream",
          "text": [
            "Accuracy: mean=98.635, std=0.148, n=5\n"
          ],
          "name": "stdout"
        },
        {
          "output_type": "display_data",
          "data": {
            "image/png": "[encoded data removed]",
            "text/plain": [
              "<Figure size 432x288 with 1 Axes>"
            ]
          },
          "metadata": {
            "tags": [],
            "needs_background": "light"
          }
        }
      ]
    }
  ]
}