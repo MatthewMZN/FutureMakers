{
  "nbformat": 4,
  "nbformat_minor": 0,
  "metadata": {
    "colab": {
      "name": "Day 7 | 7/12 | TensorFlow Tutorial",
      "provenance": []
    },
    "kernelspec": {
      "name": "python3",
      "display_name": "Python 3"
    },
    "language_info": {
      "name": "python"
    }
  },
  "cells": [
    {
      "cell_type": "code",
      "metadata": {
        "colab": {
          "base_uri": "https://localhost:8080/"
        },
        "id": "HsUDue6fSssy",
        "outputId": "c39df337-0de7-44ea-c059-2ecd79fc61a5"
      },
      "source": [
        "import tensorflow as tf\n",
        "\n",
        " #Initialize two constants\n",
        "x1 = tf.constant([1,2,3,4])\n",
        "x2 = tf.constant([5,6,7,8])\n",
        "\n",
        " #Multiply constants\n",
        "result = tf.multiply(x1,x2)\n",
        "\n",
        "print(result)"
      ],
      "execution_count": 1,
      "outputs": [
        {
          "output_type": "stream",
          "text": [
            "tf.Tensor([ 5 12 21 32], shape=(4,), dtype=int32)\n"
          ],
          "name": "stdout"
        }
      ]
    },
    {
      "cell_type": "code",
      "metadata": {
        "colab": {
          "base_uri": "https://localhost:8080/"
        },
        "id": "S9ljU-6EVTff",
        "outputId": "cf010d33-e454-47be-e916-666cb52a6d70"
      },
      "source": [
        "import tensorflow as tf\n",
        "\n",
        "tf.compat.v1.disable_eager_execution() #\n",
        "#Initialize two constants\n",
        "x1 = tf.constant([1,2,3,4])\n",
        "x2 = tf.constant([5,6,7,8])\n",
        "\n",
        "#Multiply constants\n",
        "result = x1*x2\n",
        "\n",
        "#Initialize interactive session\n",
        "sess = tf.compat.v1.Session()\n",
        "\n",
        "#Print the result in the session\n",
        "print(sess.run(result))\n",
        "\n",
        "#Close the session\n",
        "sess.close()"
      ],
      "execution_count": 11,
      "outputs": [
        {
          "output_type": "stream",
          "text": [
            "[ 5 12 21 32]\n"
          ],
          "name": "stdout"
        }
      ]
    },
    {
      "cell_type": "code",
      "metadata": {
        "colab": {
          "base_uri": "https://localhost:8080/"
        },
        "id": "Xq7_RqJDHdVt",
        "outputId": "195863ac-b577-42f9-cffb-d93a726b0299"
      },
      "source": [
        "sess"
      ],
      "execution_count": 12,
      "outputs": [
        {
          "output_type": "execute_result",
          "data": {
            "text/plain": [
              "<tensorflow.python.client.session.Session at 0x7f2cb1b3bb90>"
            ]
          },
          "metadata": {
            "tags": []
          },
          "execution_count": 12
        }
      ]
    },
    {
      "cell_type": "code",
      "metadata": {
        "id": "eJIAbLUSW74_",
        "colab": {
          "base_uri": "https://localhost:8080/"
        },
        "outputId": "fb049a94-816a-40fe-92af-02c3cfd512c3"
      },
      "source": [
        "import tensorflow as tf\n",
        "\n",
        "#Initialize two constants\n",
        "x1 = tf.constant([1,2,3,4])\n",
        "x2 = tf. constant([5,6,7,8])\n",
        "\n",
        "#Multiply\n",
        "new_new_result = tf.multiply(x1,x2)\n",
        "\n",
        "#Initialize Session and run 'result'\n",
        "with tf.compat.v1.Session() as sess:\n",
        "  output = sess.run(new_new_result)\n",
        "  print(output)"
      ],
      "execution_count": 14,
      "outputs": [
        {
          "output_type": "stream",
          "text": [
            "[ 5 12 21 32]\n"
          ],
          "name": "stdout"
        }
      ]
    },
    {
      "cell_type": "code",
      "metadata": {
        "colab": {
          "base_uri": "https://localhost:8080/"
        },
        "id": "4UtTytjUGpIj",
        "outputId": "e9844d2c-074e-4cbf-ee97-1d151b9c125a"
      },
      "source": [
        "print(tf.version)"
      ],
      "execution_count": 6,
      "outputs": [
        {
          "output_type": "stream",
          "text": [
            "<module 'tensorflow._api.v2.version' from '/usr/local/lib/python3.7/dist-packages/tensorflow/_api/v2/version/__init__.py'>\n"
          ],
          "name": "stdout"
        }
      ]
    },
    {
      "cell_type": "code",
      "metadata": {
        "colab": {
          "base_uri": "https://localhost:8080/"
        },
        "id": "o02VAs7bGt2G",
        "outputId": "d72cf371-aa7c-4b9c-b1dd-86e844a72dab"
      },
      "source": [
        "print(tf.__version__)"
      ],
      "execution_count": 7,
      "outputs": [
        {
          "output_type": "stream",
          "text": [
            "2.5.0\n"
          ],
          "name": "stdout"
        }
      ]
    }
  ]
}